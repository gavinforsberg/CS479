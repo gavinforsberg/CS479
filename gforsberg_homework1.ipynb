{
 "cells": [
  {
   "cell_type": "markdown",
   "metadata": {},
   "source": [
    "# HW 1 due Feb 27th at 11:55 PM\n",
    "\n",
    "# CS 497 Introduction to Python Programming\n",
    "\n",
    "Please comment all code (I have no problem with over-zealous commenting although I will tell you if I feel you are going above the call of the duty)\n",
    "\n",
    "\n",
    "### Instructions\n",
    "0. Remember to comment.  If your code fails to perform the task at hand but your comments are describing proper code execution I can award a substanial amount of points for logical errors in your program.  Think of comments as the equivalent of showing your work in a math class.\n",
    "1. Read all instructions carefully, ask questions if anything is confusing.  \n",
    "2. Fill in the code/text blocks to answer each question.\n",
    "3. Do **not** change any of the existing code provided.  The code is specifically there to help you!\n",
    "4. Run the entire notebook *before* submitting it on Sakai to make sure that the code actually runs without errors.\n",
    "5. **Important**: Any question for which your code fails to run will receive 0 points.\n",
    "6. Have fun!\n",
    "7. DO NOT USE ANY PACKAGES, other than the ones I have imported.  Part of learning is to struggle through the \"hard way\" before getting to do things the easy way.  Any packages I have imported are fair game and you may use any functions unless otherwise specified.  If I've imported them after a function, I've deliberately made it so you cannot retroactively use them in an earlier problem.\n",
    "8. If I've used return None for a function, you may definitely change the return type.  It's just a placeholder\n",
    "9. While you may discuss the concepts of the problems with your peers your code will need to be yours and yours alone.\n",
    "10. Replace CS497 with your BUID (ie if I was turning in this assignment my file would be called dbrennan_Homework1).  "
   ]
  },
  {
   "cell_type": "code",
   "execution_count": 1,
   "metadata": {},
   "outputs": [
    {
     "name": "stdout",
     "output_type": "stream",
     "text": [
      "ascii_lowercase is: abcdefghijklmnopqrstuvwxyz\n",
      "ascii_uppercase is: ABCDEFGHIJKLMNOPQRSTUVWXYZ\n",
      "digits is: 0123456789\n"
     ]
    }
   ],
   "source": [
    "#To save time in the future, let's use these for ascii letters and numbers (you may use these for hw/tests)\n",
    "from string import ascii_lowercase\n",
    "from string import ascii_uppercase\n",
    "from string import digits\n",
    "\n",
    "print(\"ascii_lowercase is:\",ascii_lowercase)\n",
    "print(\"ascii_uppercase is:\",ascii_uppercase)\n",
    "print(\"digits is:\",digits)"
   ]
  },
  {
   "cell_type": "markdown",
   "metadata": {},
   "source": [
    "# Problem #1 (30 points)\n",
    "Let's build a calculator!  The operators the calculator can handle are addition through \"+\", subtraction through \"-\", division through \"/\", multiplication through \"x\", exponentiation through \"^\", and modular arthimetic through \"m\"\n",
    "\n",
    "**Of course these are the symbols the user can type to invoke a mathematical operation, python may not be able to directly translate them.  For example the \"^\" operator does not mean exponentiation in python!**\n",
    "\n",
    "For example running my my_calculator and entering 2^7 should return:\n",
    "\n",
    "**Your entry of 2^7 is equal to 128**\n",
    "\n",
    "For example: if my operation was 2++4 you should return\n",
    "\n",
    "**Your entry of 2++4 is not valid**\n",
    "\n",
    "**You'll need conditional logic, some string parsing (lab 2/3), and to make rational design choices if the operation cannot be satisfied.**\n",
    "\n",
    "**You may assume the user input string contains only two numbers seperated by an operation, you will not be tested against more than two numbers or multiple operations (or any characters)**\n",
    "\n",
    "I have imported the regular expression package for you to use, certainly not all solutions will leverage it but if you want to play around with regex a useful pythonic resource is:\n",
    "\n",
    "**Be aware the first number can be negative!  -2+-4 should print -6!**\n",
    "\n",
    "https://docs.python.org/3/library/re.html\n",
    "\n",
    "**Regex is a super awesome skill to be able to use in a job interview, however, you won't be tested on it in this class.  If you have the time and will power to learn about it, now is a good chance to do so!  I have had students learn regex on similar problems and get job offers solely from learning Regex.  I offer it to you as an opportunity, but it greatly escalates the difficulty of the problem if you are unfamiliar with it**\n",
    "\n",
    "Once again, you are not required to use the re package for your solution\n"
   ]
  },
  {
   "cell_type": "code",
   "execution_count": 3,
   "metadata": {},
   "outputs": [
    {
     "name": "stdout",
     "output_type": "stream",
     "text": [
      "Please enter a mathematical operation you wish to perform: \n",
      "8+3\n",
      "Your entry of  8+3  is equal to  11\n",
      "None\n"
     ]
    }
   ],
   "source": [
    "import re\n",
    "##This is a function that does not take in any parameters at all\n",
    "##We also won't be returning anything\n",
    "def calculator(self):\n",
    "    user_string = input(\"Please enter a mathematical operation you wish to perform: \\n\")\n",
    "    ##Write your code here \n",
    "    #number_is_valid(user_string)\n",
    "    string_list = list(user_string)\n",
    "        \n",
    "    #checks for multiple operators \n",
    "    if user_string.count(\"+\") > 1:\n",
    "        print(\"Your entry of \", user_input, \" is not valid\") \n",
    "    elif user_string.count(\"-\") > 1:\n",
    "        print(\"Invalid Input\")\n",
    "    elif user_string.count(\"/\") > 1:\n",
    "        print(\"Invalid Input\")\n",
    "    elif user_string.count(\"x\") > 1:\n",
    "        print(\"Invalid Input\")\n",
    "    elif user_string.count(\"^\") > 1:\n",
    "        print(\"Invalid Input\")\n",
    "    elif user_string.count(\"m\") > 1:\n",
    "        print(\"Invalid Input\")\n",
    "    else:\n",
    "        print(operations(user_string, string_list))\n",
    "        \n",
    "    ## print the result, do not return it\n",
    "    return None\n",
    "    \n",
    "def operations(user_string, user_input):\n",
    "    if user_input[0] == '-':\n",
    "        del user_input[0]\n",
    "        new_string = \"\".join(user_input)\n",
    "        print(new_string)\n",
    "        if '+' in new_string:\n",
    "            y = new_string.split('+')\n",
    "            x = (int(y[0]) - int(y[1])) * -1\n",
    "        elif '-' in new_string:\n",
    "            y = new_string.split('-')\n",
    "            x = (int(y[0]) + int(y[1])) * -1\n",
    "        elif 'x' in new_string:\n",
    "            y = new_string.split('x')\n",
    "            x = (int(y[0]) * int(y[1])) * -1\n",
    "        elif '/' in new_string:\n",
    "            y = new_string.split('/')\n",
    "            x = (int(y[0]) / int(y[1])) * -1\n",
    "        elif '^' in new_string:\n",
    "            y = new_string.split('^')\n",
    "            x = (int(y[0]) ** int(y[1])) * -1\n",
    "        elif 'm' in new_string:\n",
    "            y = new_string.split('m')\n",
    "            x = (int(y[0]) % int(y[1])) * -1\n",
    "    else:\n",
    "        new_string = \"\".join(user_input)\n",
    "        if '+' in new_string:\n",
    "            y = new_string.split('+')\n",
    "            x = int(y[0]) + int(y[1])\n",
    "        elif '-' in new_string[1]:\n",
    "            y = new_string.split('-')\n",
    "            x = int(y[0]) - int(y[1])\n",
    "        elif 'x' in new_string:\n",
    "            y = new_string.split('x')\n",
    "            x = int(y[0]) * int(y[1])\n",
    "        elif '/' in new_string:\n",
    "            y = new_string.split('/')\n",
    "            x = int(y[0]) / int(y[1])\n",
    "        elif '^' in new_string:\n",
    "            y = new_string.split('^')\n",
    "            x = int(y[0]) ** int(y[1])\n",
    "        elif 'm' in new_string:\n",
    "            y = new_string.split('m')\n",
    "            x = int(y[0]) % int(y[1])\n",
    "    print(\"Your entry of \", user_string, \" is equal to \", x)\n",
    "    return None\n",
    "calculator('self')"
   ]
  },
  {
   "cell_type": "markdown",
   "metadata": {},
   "source": [
    "# Problem 2 Some string operations (30 points) + 5 points of extra credit\n",
    "\n",
    "Rick and Morty have been captured by the galactic federation.  They are not being held in adjacent cells but fortunately for our heros a corrupt guard is willing to pass them messages from each other (in exchange for money).  **In order to not have any culpability should things go wrong, he asks that their messages are encoded so he can have some plausible deniability as to what was happening.**\n",
    "\n",
    "You'll take a message (a string) lower case it, and shift it around (I would recommend lowercasing your string to only have to worry about one set of letters!!!).  **You'll leave spacing and punctuation intact**.  Your encryption function will take a string, and an offset.  This offset will represent a shift in characters.  \n",
    "\n",
    "Take \"cat\" for example.\n",
    "\n",
    "For example with an offset of positive 3, my string \"cat\" would shift to \"fdw\" (c->d,d->e,e->f)  repeat for others\n",
    "\n",
    "For example with an offset of negative 3, my string \"cat\" would shift to \"zxq\" (c->b,b->a,a->z) **we are going backwards!**\n",
    "\n",
    "Of course decryption would simply revert these strings to their original forms\n",
    "\n",
    "**Extra credit (5 points)**\n",
    "\n",
    "Knowing that there's a chance that somebody would simply see that letters are being shifted Rick might have had time to coach Morty through a slightly more secure procedure where we now have two sets of letters, uppercase and lowercase.  In this extra credit version of the assignment \"CaT\" with a shift of 3 should yield \"FdW\" preserving the casing of the original letters.  This is essentially the non-extra credit version of the assignment with some extra steps.\n",
    "\n",
    "If you attempt the extra credit, please provide the base functionality seperately, ie solve both the extra credit and regular credit version of the problem.  My test cases will evaluate both versions, those who choose not to do extra credit will not be penalized.\n"
   ]
  },
  {
   "cell_type": "code",
   "execution_count": 6,
   "metadata": {},
   "outputs": [
    {
     "data": {
      "text/plain": [
       "'jhssdm'"
      ]
     },
     "execution_count": 6,
     "metadata": {},
     "output_type": "execute_result"
    }
   ],
   "source": [
    "## go through string_input, change characters to ascii decimal values, add offset to ascii value, \n",
    "## append a new list (or maybe += a string?) / change values back to letter \n",
    "#(check that the ascii values are within a range 41-67 or something)\n",
    "\n",
    "def encrypt(string_input, offset):\n",
    "    string_input=string_input.lower()\n",
    "    output = []\n",
    "    new_output = \"\"\n",
    "    \n",
    "    #mod offset by 26 so it won't ever be more than length of alphabet (27 same as 1) \n",
    "    if offset > 26:\n",
    "        offset %= 26\n",
    "    \n",
    "    #go through string_input\n",
    "    for char in string_input: \n",
    "        #change characters to ascii decimal, add offset to ascii value\n",
    "        modified_char = ord(char) + offset\n",
    "        #ensures shifted value will still fall within lowercase letter and adds new value to new_output\n",
    "        if modified_char < 97: \n",
    "            modified_char += 26\n",
    "            new_output += chr(modified_char) \n",
    "        elif modified_char > 122:\n",
    "            modified_char -= 26\n",
    "            new_output += chr(modified_char)\n",
    "        else:\n",
    "            new_output+=chr(modified_char)\n",
    "    \n",
    "    return(new_output)\n",
    "\n",
    "encrypt(\"kitten\", 2833)"
   ]
  },
  {
   "cell_type": "code",
   "execution_count": 7,
   "metadata": {},
   "outputs": [
    {
     "name": "stdout",
     "output_type": "stream",
     "text": [
      "kitten\n"
     ]
    }
   ],
   "source": [
    "## does the same as encrypt, but multiplies the offset by one to shift back\n",
    "def decrypt(string_input, offset):\n",
    "    offset %= 26\n",
    "    offset *= -1\n",
    "    decipher = encrypt(string_input, offset)\n",
    "    print(decipher)\n",
    "decrypt(\"jhssdm\", 2833)"
   ]
  },
  {
   "cell_type": "code",
   "execution_count": 8,
   "metadata": {},
   "outputs": [
    {
     "data": {
      "text/plain": [
       "'lIpPs'"
      ]
     },
     "execution_count": 8,
     "metadata": {},
     "output_type": "execute_result"
    }
   ],
   "source": [
    "##Extra credit version use below functions, otherwise please leave blank (Do not delete)\n",
    "def encrypt(string_input, offset):\n",
    "    output = []\n",
    "    modified_char = \"\"\n",
    "    new_output = \"\"\n",
    "    \n",
    "    #mod offset by 26 so it won't ever be more than length of alphabet (27 same as 1) \n",
    "    if offset > 26:\n",
    "        offset %= 26\n",
    "\n",
    "    #go through string_input\n",
    "    for char in string_input: \n",
    "        #change characters to ascii decimal, add offset to ascii value\n",
    "        modified_char = ord(char)\n",
    "        #checks if the letter should be upper/lowercase\n",
    "        if modified_char > 64 and modified_char < 91:\n",
    "            #adds offset to shift value and ensure it is within upper or lowercase letter value\n",
    "            modified_char += offset\n",
    "            if modified_char <= 63: \n",
    "                modified_char += 26\n",
    "                new_output += chr(modified_char)\n",
    "            elif modified_char >= 91:\n",
    "                modified_char -= 26\n",
    "                new_output += chr(modified_char)\n",
    "            else:\n",
    "                new_output += chr(modified_char)\n",
    "        else:\n",
    "            modified_char += offset\n",
    "            if modified_char <= 96: \n",
    "                modified_char += 26\n",
    "                new_output += chr(modified_char)\n",
    "            elif modified_char >= 123:\n",
    "                modified_char -= 26\n",
    "                new_output += chr(modified_char)\n",
    "            else:\n",
    "                new_output += chr(modified_char)\n",
    "        \n",
    "    return(new_output)\n",
    "\n",
    "encrypt(\"hElLo\", -22)"
   ]
  },
  {
   "cell_type": "code",
   "execution_count": 9,
   "metadata": {},
   "outputs": [
    {
     "name": "stdout",
     "output_type": "stream",
     "text": [
      "hElLo\n"
     ]
    }
   ],
   "source": [
    "## does the same as encrypt, but multiplies the offset by one to shift back\n",
    "def decrypt(string_input, offset):\n",
    "    offset %= 26\n",
    "    offset *= -1\n",
    "    decipher = encrypt(string_input, offset)\n",
    "    print(decipher)\n",
    "decrypt(\"lIpPs\", -22)"
   ]
  },
  {
   "cell_type": "markdown",
   "metadata": {},
   "source": [
    "# Problem 3 (10 points)\n",
    "\n",
    "# Delimitting \n",
    "\n",
    "Design a function to split a string into substrings of size n, adding a delimiter between each of the substrings.\n",
    "\n",
    "split_and_delimit(\"magnify\", 3, \"7\") = **mag7nif7y**\n",
    "\n",
    "As evidenced by the example above, if you don't have an equal number of characters in your split strings you don't need a delimitter for the final one.\n",
    "\n",
    "mag = 3\n",
    "put a delimitter \n",
    "nif = 3\n",
    "put a delimitter\n",
    "y = 1\n",
    "\n",
    "no need for a delimitter after the final split string, even if the pieces are equal.\n",
    "\n",
    "**You may not use string.split() in your solution**"
   ]
  },
  {
   "cell_type": "code",
   "execution_count": 10,
   "metadata": {
    "scrolled": true
   },
   "outputs": [
    {
     "data": {
      "text/plain": [
       "'mag7nif7y'"
      ]
     },
     "execution_count": 10,
     "metadata": {},
     "output_type": "execute_result"
    }
   ],
   "source": [
    "# go through string, when character in string is at num_splits, add to list and append to add delimiter, return list\n",
    "\n",
    "def split_with_d(string, num_splits, delimeter):\n",
    "    \n",
    "    splits = []\n",
    "    i = 0\n",
    "    new_string = \"\"\n",
    "    ##while the string is not empty, slice into parts each with len of num_splits characters\n",
    "    while string != \"\":\n",
    "        sliced = string[0:num_splits:]\n",
    "        string = string[num_splits::]\n",
    "        splits.append(sliced)   ##add elements to list        \n",
    "        \n",
    "        ## if len of the list at individual elements == number of characters before the split\n",
    "        if len(splits[i]) == num_splits:\n",
    "            temp = splits[i]\n",
    "            temp += delimeter   ##add delimiter to the end and fill splits[] back\n",
    "            splits[i] = temp    \n",
    "            new_string = \"\".join(splits)   ##use .join to move it back into one string\n",
    "        else:\n",
    "            new_string = \"\".join(splits)\n",
    "        i+=1\n",
    "    \n",
    "    return new_string\n",
    "    \n",
    "split_with_d(\"magnify\", 3, \"7\") "
   ]
  },
  {
   "cell_type": "markdown",
   "metadata": {},
   "source": [
    "# Problem 4 (30 points)\n",
    "\n",
    "# Email validation\n",
    "\n",
    "In this problem we will be writing a function to assist with checking if something is a valid email.  \n",
    "\n",
    "**A valid email can be defined for this problem as taking the format X@Y.Z where X is considered a user, Y is considered a domain and Z is considered the domain extension.**\n",
    "\n",
    "To make things interesting, X must contain more letters than numbers, Y may not contain more than two numbers, and Z cannot contain any numbers and must be of length 3 exactly.  \n",
    "\n",
    "X, Y, and Z will only contain numbers or letters no !@#$%^&*() etc\n",
    "\n",
    "Your function will return either True or False\n",
    "\n",
    "is_valid_email(johnSmith123@abcCorp123.com) is False, Y contains 3 numbers\n",
    "\n",
    "is_valid_email(johnSmith123@abcCorp123.coms) is False, Z contaisn 4 characters\n",
    "\n",
    "is_valid_email(12345John@abcCorp.com) is False, X contains more numbers than letters\n",
    "\n",
    "is_valid_email(123John@abcCorp.com) is True, X/Y/Z checks all pass"
   ]
  },
  {
   "cell_type": "code",
   "execution_count": 11,
   "metadata": {
    "scrolled": false
   },
   "outputs": [
    {
     "data": {
      "text/plain": [
       "True"
      ]
     },
     "execution_count": 11,
     "metadata": {},
     "output_type": "execute_result"
    }
   ],
   "source": [
    "# split user input into three sections, check that it doesn't have non letter/integers, compare username \n",
    "# letters to numbers, verify domain has less than two ASCII digits, verify z len is less than 3 and .isalpha()\n",
    "\n",
    "from string import ascii_lowercase\n",
    "from string import ascii_uppercase\n",
    "from string import digits  \n",
    "import re\n",
    "def is_valid_email(userInput):   \n",
    "    everything = \"abcdefghijklmnopqrstuvwxyzABCDEFGHIJKLMNOPQRSTUVWXYZ0123456789\"\n",
    "    #use regex to split once into three pieces\n",
    "    x = (re.split('[@.]', userInput))\n",
    "    \n",
    "    for a in x[0]: \n",
    "        for b in x[1]:\n",
    "            for c in x[2]: #check if characters are only letters and numbers (no special characters)\n",
    "                if a not in everything or b not in everything or c not in everything:\n",
    "                    return False\n",
    "       \n",
    "    #checks that username does not have more numbers than letters\n",
    "    num_digits = 0\n",
    "    letters = 0\n",
    "    for i in x[0]:\n",
    "        if i in digits:\n",
    "            num_digits += 1\n",
    "        elif i in ascii_lowercase or ascii_uppercase:\n",
    "            letters += 1\n",
    "    if num_digits > letters:\n",
    "        return False\n",
    "    \n",
    "    num_digits = 0 \n",
    "    \n",
    "    #checks that domain has only 2 numbers at most\n",
    "    for i in x[1]:\n",
    "        if i in digits:\n",
    "            num_digits += 1\n",
    "        if num_digits > 2:\n",
    "            return False\n",
    "            \n",
    "    #checks that the domain extension is 3 characters and does not contain numbers\n",
    "    if len(x[2]) == 3 and x[2].isalpha():\n",
    "        return True\n",
    "    else:\n",
    "        return False\n",
    "      \n",
    "is_valid_email(\"123John@abcCorp.com\")"
   ]
  },
  {
   "cell_type": "code",
   "execution_count": null,
   "metadata": {},
   "outputs": [],
   "source": []
  },
  {
   "cell_type": "code",
   "execution_count": null,
   "metadata": {},
   "outputs": [],
   "source": []
  }
 ],
 "metadata": {
  "kernelspec": {
   "display_name": "Python 3",
   "language": "python",
   "name": "python3"
  },
  "language_info": {
   "codemirror_mode": {
    "name": "ipython",
    "version": 3
   },
   "file_extension": ".py",
   "mimetype": "text/x-python",
   "name": "python",
   "nbconvert_exporter": "python",
   "pygments_lexer": "ipython3",
   "version": "3.8.3"
  }
 },
 "nbformat": 4,
 "nbformat_minor": 2
}
