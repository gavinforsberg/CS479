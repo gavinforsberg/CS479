{
 "cells": [
  {
   "cell_type": "markdown",
   "metadata": {},
   "source": [
    "#### CS 497 Lab 1\n",
    "\n",
    "\n",
    "### Instructions\n",
    "0. Rename this file username_lab1.  **Not literally, yourName_lab1 (technically correct, the best kind of correct!) but use your BU ID to fill in yourName.**  If I was submitting this lab, it would be called dbrennan_lab1.\n",
    "1. Read all instructions carefully, ask questions if anything is confusing.  \n",
    "2. Fill in the code/text blocks to answer each question.\n",
    "3. Do *not* change any of the existing code provided.  The code is specifically there to help you!\n",
    "4. Run the entire notebook *before* submitting it on Sakai to make sure that the code actually runs without errors.\n",
    "5. **Important**: Any question for which your code fails to run will receive 0 points.\n",
    "6. Have fun!\n",
    "7. Extra credit (if applicable) will only be granted if this lab is turned in before the end of class\n",
    "8. **Do not import any packages!**  Any packages available to you are designed to be used from their import statement down.  \n",
    "\n",
    "Example:  Problem 1 doesn't have any import statements.  Problem 2 imports one package called \"A\".  Problem 3 imports one package called \"B\".  You may not use \"A\" or \"B\" for problem 1, you may not use \"B\" for problem 2 and you may use both for problem 3.  If you were to restart and rerun all cells in your notebook you would not be able to use a package prior to importing it so it logically makes sense as well!\n"
   ]
  },
  {
   "cell_type": "markdown",
   "metadata": {},
   "source": [
    "# Question 1 30 points\n",
    "\n",
    "Please sum up the numbers from 1 to N where, you choose to set N below.  The formula for the summation is provided, check your work!\n",
    "\n",
    "# **This would look like $\\sum_{i=1}^ni=\\frac{(n+1)(n)}{2}$ if we were in a math class.**\n",
    "\n",
    "# $\\sum_{i=1}^5i=1+2+3+4+5=15=\\frac{(5+1)(5)}{2}$\n",
    "\n",
    "Do **NOT** use the closed form solution of: $\\frac{(n+1)(n)}{2}$ in your answer, that is merely a way to check your work.  I would recommend a while or a for loop."
   ]
  },
  {
   "cell_type": "code",
   "execution_count": 1,
   "metadata": {},
   "outputs": [
    {
     "name": "stdout",
     "output_type": "stream",
     "text": [
      "15\n"
     ]
    }
   ],
   "source": [
    "##Your code below, you may change n to any value\n",
    "n = 5\n",
    "counter = 1\n",
    "sum = 0\n",
    "\n",
    "while (counter < (n + 1)):\n",
    "    sum += counter\n",
    "    counter += 1\n",
    "print(sum)"
   ]
  },
  {
   "cell_type": "markdown",
   "metadata": {},
   "source": [
    "# Question 2 30 points\n",
    "\n",
    "It can get quite cold this time of year!  Even worse if there is a wind chill.\n",
    "\n",
    "The formula for calculating wind chill in T degrees Celsius and v km/hour is given below:\n",
    "\n",
    "$WC=13.12+.6215t-11.37[v^{\\frac{16}{100}}]+.3965t[v^{\\frac{16}{100}}]$\n",
    "\n",
    "Implement the above formula carefully, the wind chill at v=21, and T=-27 yields a wind chill of -39.6 (remember these are metric measurements!) \n",
    "\n",
    "0 deg C and 30 km/h yields a WC of -6.5"
   ]
  },
  {
   "cell_type": "code",
   "execution_count": 2,
   "metadata": {},
   "outputs": [
    {
     "name": "stdout",
     "output_type": "stream",
     "text": [
      "-39.6\n"
     ]
    }
   ],
   "source": [
    "##Your code below, but change the values of T/v to test both pairs \n",
    "t = -27\n",
    "v = 21\n",
    "\n",
    "windchill = 13.12 + (.6215 * t) - (11.37 * (v**(16/100))) + ((.3965 * t) * (v ** (16 / 100)))\n",
    "\n",
    "print(round(windchill, 1))\n"
   ]
  },
  {
   "cell_type": "markdown",
   "metadata": {},
   "source": [
    "# Question 3 40 points \n",
    "\n",
    "You will be building your own quadratic equation solver!  Since we aren't importing the math library we will rely on the ** exponent we saw in class on Tuesday.  \n",
    "\n",
    "The quadratic equation $ax^2+bx+c=0$ can be solved by root 1 is $\\frac{-b-\\sqrt{b^2-4ac}}{2a}$ and root 2 is $\\frac{-b+\\sqrt{b^2-4ac}}{2a}$\n",
    "\n",
    "Now of course when the inside of the square root is less than zero we work with imaginary numbers.  You may do a check on the discriminant to see if imaginary numbers will occur.  If they do occur you may use the following line:\n",
    "\n",
    "**print(\"imaginary roots occur\")** \n",
    "\n",
    "Otherwise, print the two roots.\n",
    "a=2,b=5,c=-3 should yield roots of -3 and .5"
   ]
  },
  {
   "cell_type": "code",
   "execution_count": 3,
   "metadata": {},
   "outputs": [
    {
     "name": "stdout",
     "output_type": "stream",
     "text": [
      "Root 1 is: 0.5\n",
      "Root 2 is: -3.0\n"
     ]
    }
   ],
   "source": [
    "root1=0\n",
    "root2=0\n",
    "\n",
    "a = 2\n",
    "b = 5\n",
    "c = -3\n",
    "\n",
    "##Write your code below, modify root1 and root2 accordingly\n",
    "\n",
    "squareRoot = (b**2 - (4 * a * c)) ** .5 \n",
    "\n",
    "if isinstance(squareRoot, complex):\n",
    "    print(\"imaginary roots occur\")\n",
    "else:\n",
    "    root1 = ( (-1 * b) + squareRoot ) / ( 2 * a )\n",
    "    root2 = ( (-1 * b) - squareRoot ) / ( 2 * a )\n",
    "    print(\"Root 1 is:\", root1)\n",
    "    print(\"Root 2 is:\", root2)"
   ]
  },
  {
   "cell_type": "code",
   "execution_count": null,
   "metadata": {},
   "outputs": [],
   "source": []
  }
 ],
 "metadata": {
  "kernelspec": {
   "display_name": "Python 3",
   "language": "python",
   "name": "python3"
  },
  "language_info": {
   "codemirror_mode": {
    "name": "ipython",
    "version": 3
   },
   "file_extension": ".py",
   "mimetype": "text/x-python",
   "name": "python",
   "nbconvert_exporter": "python",
   "pygments_lexer": "ipython3",
   "version": "3.7.4"
  }
 },
 "nbformat": 4,
 "nbformat_minor": 2
}
