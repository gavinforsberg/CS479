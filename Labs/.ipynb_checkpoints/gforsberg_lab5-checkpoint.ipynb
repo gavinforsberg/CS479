{
 "cells": [
  {
   "cell_type": "markdown",
   "metadata": {},
   "source": [
    "### Lab4 due March 6th at 11:55 PM\n",
    "\n",
    "# CS 497 Introduction to Python Programming\n",
    "\n",
    "\n",
    "\n",
    "### Instructions\n",
    "0. Remember to comment.  If your code fails to perform the task at hand but your comments are describing proper code execution I can award a substanial amount of points for logical errors in your program.  Think of comments as the equivalent of showing your work in a math class.\n",
    "1. Read all instructions carefully, ask questions if anything is confusing.  \n",
    "2. Fill in the code/text blocks to answer each question.\n",
    "3. Do **not** change any of the existing code provided.  The code is specifically there to help you!\n",
    "4. Run the entire notebook *before* submitting it on Sakai to make sure that the code actually runs without errors.\n",
    "5. **Important**: Any question for which your code fails to run will receive 0 points.\n",
    "6. Have fun!\n",
    "7. DO NOT USE ANY PACKAGES, other than the ones I have imported.  Part of learning is to struggle through the \"hard way\" before getting to do things the easy way.  Any packages I have imported are fair game and you may use any functions unless otherwise specified.  If I've imported them after a function, I've deliberately made it so you cannot retroactively use them in an earlier problem.\n",
    "8. If I've used return(None) for a function, you may definitely change the return type.  It's just a placeholder\n",
    "9. While you may discuss the concepts of the problems with your peers your code will need to be yours and yours alone.\n",
    "10. Replace CS497 with your BUID (ie if I was turning in this assignment my file would be called dbrennan_Lab519FA).  "
   ]
  },
  {
   "cell_type": "markdown",
   "metadata": {},
   "source": [
    "# Step 1 (5 points)\n",
    "\n",
    "Open the file that came with the lab titled in read mode \n",
    "\n"
   ]
  },
  {
   "cell_type": "code",
   "execution_count": 1,
   "metadata": {},
   "outputs": [],
   "source": [
    "f = open(\"lab5_dictionary.txt\", \"r\")"
   ]
  },
  {
   "cell_type": "markdown",
   "metadata": {},
   "source": [
    "# Step 2 (30 points)\n",
    "\n",
    "Let's find the longest word in the dictionary, but there's a catch.  We want all words that tie the longest word in length, not merely the longest word.  Let's store them in a list.  The dictionary text file has each line ending with a newline character '\\n'.  As you add the words to the list, we can remove that pesky newline character by using rstrip() on the string.  \n",
    "\n",
    "Below you will find a demonstration of how rstrip works\n",
    "\n",
    "You can either setup a while loop and read a single line OR you can read multiple lines with readlines() (which returns a list) and iterate through that.\n",
    "\n",
    "Print out the list of candidate words and how many.\n",
    "\n",
    "Let's also print how many words are in the dictionary in total.\n",
    "\n"
   ]
  },
  {
   "cell_type": "code",
   "execution_count": 2,
   "metadata": {},
   "outputs": [
    {
     "name": "stdout",
     "output_type": "stream",
     "text": [
      "['formaldehydesulphoxylate', 'pathologicopsychological', 'scientificophilosophical', 'tetraiodophenolphthalein', 'thyroparathyroidectomize']\n",
      "same string? False\n",
      "length of original: 12 length of stripped: 10\n",
      "last character original string newline character? True\n",
      "last character stripped string newline character? False\n",
      "what is the last character of stripped string? n\n"
     ]
    }
   ],
   "source": [
    "##Notice the newline character at the end of this string?\n",
    "test_string = \"hello world\\n\"\n",
    "stripped_string = test_string.rstrip()\n",
    "current_word = ''\n",
    "long_list = []\n",
    "longest_len = 0 \n",
    "f = open('lab5_dictionary.txt', 'r')\n",
    "word_list = f.readlines()\n",
    "\n",
    "for current_word in word_list:\n",
    "    stripped_string = current_word.rstrip()\n",
    "    if longest_len < len(stripped_string):\n",
    "        longest_len = len(stripped_string) \n",
    "        long_list = []\n",
    "        long_list.append(stripped_string)\n",
    "    elif longest_len == len(stripped_string):\n",
    "        long_list.append(stripped_string)\n",
    "\n",
    "print(long_list)\n",
    "\n",
    "##Are they the same?\n",
    "print(\"same string?\",stripped_string == test_string)\n",
    "print(\"length of original:\",len(test_string),\"length of stripped:\",len(stripped_string))\n",
    "print(\"last character original string newline character?\", test_string[-1]==\"\\n\")\n",
    "print(\"last character stripped string newline character?\", stripped_string[-1]==\"\\n\")\n",
    "print(\"what is the last character of stripped string?\",stripped_string[-1])"
   ]
  },
  {
   "cell_type": "code",
   "execution_count": 3,
   "metadata": {},
   "outputs": [
    {
     "name": "stdout",
     "output_type": "stream",
     "text": [
      "Help on method_descriptor:\n",
      "\n",
      "rstrip(self, chars=None, /)\n",
      "    Return a copy of the string with trailing whitespace removed.\n",
      "    \n",
      "    If chars is given and not None, remove characters in chars instead.\n",
      "\n"
     ]
    }
   ],
   "source": [
    "##You can easily search online for how stuff works in python, but this is right in Jupyter notebook!\n",
    "help(str.rstrip)"
   ]
  },
  {
   "cell_type": "markdown",
   "metadata": {},
   "source": [
    "# Step 3 (25 points)\n",
    "\n",
    "Somewhat similar to above, let's go through the dictionary and find the word(s) that contain the most unique letters.  For example between racecar and boats, racecar contains 4 (r-a-c-e) letters vs boats (b-o-a-t-s) so we would want boats over racecar.  We will use the same criteria as above where we want a list of all words that tie the criteria of involving the most letters.\n",
    "\n",
    "Print your list in the last code cell before step 4\n",
    "\n"
   ]
  },
  {
   "cell_type": "code",
   "execution_count": 4,
   "metadata": {},
   "outputs": [
    {
     "name": "stdout",
     "output_type": "stream",
     "text": [
      "['blepharoconjunctivitis', 'formaldehydesulphoxylic', 'pneumoventriculography', 'Pseudolamellibranchiata', 'pseudolamellibranchiate', 'superacknowledgment']\n"
     ]
    }
   ],
   "source": [
    "#All letters of alphabet as a string for you to work with\n",
    "import string\n",
    "alphabet_string = string.ascii_lowercase\n",
    "#print(alphabet_string)\n",
    "f = open('lab5_dictionary.txt', 'r')\n",
    "word_list = f.readlines()\n",
    "most_uniques = 0\n",
    "most_unique_length = 0\n",
    "output = []\n",
    "        \n",
    "for current_word in word_list:\n",
    "    unique_chars = ''\n",
    "    most_unique = 0\n",
    "    stripped_string = current_word.rstrip()\n",
    "    for i in stripped_string: \n",
    "        if i not in unique_chars:\n",
    "            unique_chars += i\n",
    "            most_uniques = len(unique_chars)\n",
    "    if most_uniques > most_unique_length:\n",
    "        most_unique_length = most_uniques\n",
    "        output = []\n",
    "        output.append(stripped_string)\n",
    "    elif most_uniques == most_unique_length:\n",
    "        output.append(stripped_string)\n",
    "\n",
    "print(output)"
   ]
  },
  {
   "cell_type": "markdown",
   "metadata": {},
   "source": [
    "# Step 4 (40 points)\n",
    "\n",
    "Finally, let's determine if an anagram of a user input exists!\n",
    "\n",
    "We can check if an an anagram exists by sorting the word we are looking at and comparing against another word.  Fortunately I'm in a very good mood and have decided to code this up for you!  Merely call my function, **is_anagram** and use it your hearts content!  Sorting a word and sorting the word we want to compare against is a very nice easy way to see if we have an anagram!\n",
    "\n",
    "Take in a user word (don't worry about error checking) and see if an anagram exists in the dictionary.  Little bit of a tricky detail, if a user enters a certain word in, what must you do to make sure it's actually an anagram of the entered word?  Recommend using .lower() or .upper() to handle case sensitivity.  Print out each and every word that is anagram of the entered word and not the entered word.  If no anagrams are found, report \"no anagrams were found!\"\n",
    "\n",
    "**important: because each word ends with a newline character, you'll need to handle this with rstrip() or some other method**\n",
    "\n",
    "**if the user enters rat, the dictionary will find 'art\\n' (length of 4 characters).  Since we have a bigger string, there's no way to build an anagram since the user didn't enter the newline character **\n",
    "\n",
    "\n",
    "For testing your function the following words do have anagrams in this dictionary:\n",
    "\n",
    "1) restful\n",
    "\n",
    "2) bluster\n",
    "\n",
    "3) binary\n",
    "\n",
    "Return all anagrams found!!!\n",
    "\n",
    "For example bluster should return a list containing the following words:\n",
    "brustle\n",
    "bustler\n",
    "\n"
   ]
  },
  {
   "cell_type": "code",
   "execution_count": 5,
   "metadata": {},
   "outputs": [
    {
     "name": "stdout",
     "output_type": "stream",
     "text": [
      "Please enter the word you would like to find an anagram for:rat\n",
      "Anagrams below:\n",
      "\n",
      "\n"
     ]
    },
    {
     "data": {
      "text/plain": [
       "['art', 'art', 'rat', 'tar', 'tra']"
      ]
     },
     "execution_count": 5,
     "metadata": {},
     "output_type": "execute_result"
    }
   ],
   "source": [
    "def is_anagram(string1,string2):\n",
    "    return sorted(string1) == sorted(string2)\n",
    "#is_anagram(\"brain\",\"brian\")\n",
    "\n",
    "def anagram_finder(self):\n",
    "    user_input = input(\"Please enter the word you would like to find an anagram for:\")\n",
    "    print(\"Anagrams below:\\n\\n\")\n",
    "    #Your code here\n",
    "    anagram_list = []\n",
    "    f = open('lab5_dictionary.txt', 'r')\n",
    "    word_list = f.readlines()\n",
    "    lower_input = user_input.lower()\n",
    "    \n",
    "    for current_word in word_list:\n",
    "        stripped = current_word.rstrip().lower()\n",
    "        checker = is_anagram(user_input, stripped)\n",
    "        if checker:\n",
    "            anagram_list.append(stripped)\n",
    "            \n",
    "    if not anagram_list:\n",
    "        return (\"No anagrams were found!\")\n",
    "    \n",
    "    return(anagram_list)\n",
    "anagram_finder('self')"
   ]
  }
 ],
 "metadata": {
  "kernelspec": {
   "display_name": "Python 3",
   "language": "python",
   "name": "python3"
  },
  "language_info": {
   "codemirror_mode": {
    "name": "ipython",
    "version": 3
   },
   "file_extension": ".py",
   "mimetype": "text/x-python",
   "name": "python",
   "nbconvert_exporter": "python",
   "pygments_lexer": "ipython3",
   "version": "3.7.4"
  }
 },
 "nbformat": 4,
 "nbformat_minor": 2
}
