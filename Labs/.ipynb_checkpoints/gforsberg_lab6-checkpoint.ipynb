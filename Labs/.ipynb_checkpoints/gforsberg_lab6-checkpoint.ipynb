{
 "cells": [
  {
   "cell_type": "markdown",
   "metadata": {},
   "source": [
    "### Lab6 due April 3rd at 11:55 PM\n",
    "\n",
    "# CS 497 Introduction to Python Programming\n",
    "\n",
    "\n",
    "\n",
    "### Instructions\n",
    "0. Remember to comment.  If your code fails to perform the task at hand but your comments are describing proper code execution I can award a substanial amount of points for logical errors in your program.  Think of comments as the equivalent of showing your work in a math class.\n",
    "1. Read all instructions carefully, ask questions if anything is confusing.  \n",
    "2. Fill in the code/text blocks to answer each question.\n",
    "3. Do **not** change any of the existing code provided.  The code is specifically there to help you!\n",
    "4. Run the entire notebook *before* submitting it on Sakai to make sure that the code actually runs without errors.\n",
    "5. **Important**: Any question for which your code fails to run will receive 0 points.\n",
    "6. Have fun!\n",
    "7. DO NOT USE ANY PACKAGES, other than the ones I have imported.  Part of learning is to struggle through the \"hard way\" before getting to do things the easy way.  Any packages I have imported are fair game and you may use any functions unless otherwise specified.  If I've imported them after a function, I've deliberately made it so you cannot retroactively use them in an earlier problem.\n",
    "8. If I've used return(None) for a function, you may definitely change the return type.  It's just a placeholder\n",
    "9. While you may discuss the concepts of the problems with your peers your code will need to be yours and yours alone.\n",
    "10. Replace CS497 with your BUID (ie if I was turning in this assignment my file would be called dbrennan_lab6FA19).  \n",
    "11. Do not zip your lab file with the output txt, I do no want your generated txt (I will make it myself!), but please attach your downloaded txt without zipping"
   ]
  },
  {
   "cell_type": "code",
   "execution_count": 1,
   "metadata": {},
   "outputs": [],
   "source": [
    "### First off, you get to choose your own text file! \n",
    "### https://www.gutenberg.org/browse/scores/top and pick any of these books (each has a txt option)"
   ]
  },
  {
   "cell_type": "code",
   "execution_count": 2,
   "metadata": {
    "scrolled": true
   },
   "outputs": [],
   "source": [
    "##Random library \n",
    "import random\n",
    "from string import ascii_letters\n",
    "\n",
    "##File stuff, put the name of your downloaded file here!\n",
    "file_name = \"lab6_Jane_Austin.txt\"\n",
    "\n",
    "##Open our file in read only mode\n",
    "file_input = open(file_name,\"r\")\n",
    "lines_of_file = file_input.readlines()\n",
    "file_input.close()"
   ]
  },
  {
   "cell_type": "markdown",
   "metadata": {},
   "source": [
    "It is a well-known phenomenon that most people are easily able to read a text whose\n",
    "words have two characters flipped, provided the first and last letter of each word are \n",
    "not changed.\n",
    "\n",
    "Let's look below:\n",
    "\n",
    "**I dn’ot gvie a dman for a man taht can olny sepll a wrod one way. (Mrak Taiwn)**\n",
    "\n",
    "Real:\n",
    "I don't give a damn for a man that can only spell a word one way. (Mark Twain)"
   ]
  },
  {
   "cell_type": "markdown",
   "metadata": {},
   "source": [
    "You are going to build this function and translate a document you have downloaded.  I've handled all the file processing, splitting the words out of the text.  You merely need to take in a word (string input) and return a word (string output) having shifted some things around.  My code is designed to give your function a word, it will handle the spacing/punctuation/etc.\n",
    "\n",
    "**If it contains anything other than letters, return empty string!!!**\n",
    "\n",
    "**You can check if every character is a letter or there might be another function that does it for you...**\n",
    "\n",
    "IMPORTANT:\n",
    "Words of length 1/2/3 will remain the same.  1/2 are trivial, but words of length 3 have one character than can swap, therefore it can only swap with itself.\n",
    "\n",
    "Words of length 4 are when the fun begins, you'll need to preserve the first and last letter.  Choose two random middle letters and swap them.  It's pretty easy to pick a word where this could fail, choose any palindrome like racecar.  The r's are excluded from selection but it's certainly plausible the a's switch places.  For the sake of simplicity if the letters are identical and get swapped, we'll put a \"\\\\\" (the single slash) in front of the first letter to denote it's been swapped.  This shows me that you understand the algorithm in addition to giving a clear and demonstratable handling of swapping the same letters.\n",
    "\n",
    "So \"racecar\" with the a's both being randomly selected turns into \"r\\acecar\".  It becoems a little less readable, but it alerts me that you've swapped the characters appropriately.  \n",
    "\n",
    "Despite the example clearly moving the apostrophe, don't worry about anything other than the two letters switching.  Your life will be made easier just handling the swap of two characters.\n"
   ]
  },
  {
   "cell_type": "code",
   "execution_count": 10,
   "metadata": {},
   "outputs": [
    {
     "data": {
      "text/plain": [
       "'he\\\\llo'"
      ]
     },
     "execution_count": 10,
     "metadata": {},
     "output_type": "execute_result"
    }
   ],
   "source": [
    "## ALL OF YOUR CODE FOR THIS LAB GOES HERE!\n",
    "from string import ascii_lowercase\n",
    "from string import ascii_uppercase\n",
    "\n",
    "def mark_twain_function(string_input): \n",
    "    # If the input is all letters and the length of the word is greater than 3\n",
    "    if string_input.isalpha() and len(string_input) >= 4:\n",
    "        \n",
    "        # Removes the first and last letters to work with the middle\n",
    "        working_phrase = string_input[1:-1]\n",
    "        \n",
    "        # Adds the string phrase to a list\n",
    "        input_list = list(working_phrase)\n",
    "        \n",
    "        # Takes the random letters as indices but preserves original list contents\n",
    "        i,j = random.sample(range(len(input_list)), 2)\n",
    "                \n",
    "        # If i and j are the same letter (not the same index / same letter), \n",
    "        # adds the slashes before the first occurance \n",
    "        if input_list[i] == input_list[j]:\n",
    "            built = input_list[:]\n",
    "            built.insert(min(i,j), '\\\\')\n",
    "            built_string = ''.join(built)\n",
    "        else: # If the letters are different, swaps the two and joins the list to a string\n",
    "            input_list[i], input_list[j] = input_list[j], input_list[i]\n",
    "            built_string = ''.join(input_list)\n",
    "            \n",
    "        # Adds the first and last letters back\n",
    "        a = string_input[0]\n",
    "        b = string_input[-1]\n",
    "        string_output = a + built_string + b\n",
    "        \n",
    "        # Returns the new output or blank string if the length is less than 4 or contains non letters\n",
    "        return string_output\n",
    "    else:\n",
    "        return ''"
   ]
  },
  {
   "cell_type": "code",
   "execution_count": 11,
   "metadata": {},
   "outputs": [
    {
     "name": "stdout",
     "output_type": "stream",
     "text": [
      "First test passed?: True\n",
      "Second test passed?: True\n",
      "Third test passed?: True\n",
      "Fourth test passed?: True\n",
      "Fifth test passed?: True\n"
     ]
    }
   ],
   "source": [
    "##Do not modify this code block\n",
    "##Little utility to check if your function works\n",
    "##For anyone with the math background, assuming DISTINCT letters number of words we can generate is P(n,2)/2 where n is\n",
    "##the length of the string minus 2\n",
    "\n",
    "word_list = []\n",
    "\n",
    "for i in range(1000):\n",
    "    x = mark_twain_function(\"hello\")\n",
    "    if x not in word_list:\n",
    "        word_list.append(x)\n",
    "\n",
    "#print('Word List: ', word_list)\n",
    "        \n",
    "##We must sort both lists to compare since we are generating random numbers and aren't guranteed the same order\n",
    "print(\"First test passed?:\",sorted(['hlleo', 'he\\\\llo', 'hlelo'])==sorted(word_list))\n",
    "\n",
    "#print('Sorted Hello: ', sorted(['hlleo', 'he\\\\llo', 'hlelo']))\n",
    "#print('Sorted WordList: ', sorted(word_list), '\\n\\n')\n",
    "\n",
    "\n",
    "word_list = []\n",
    "for i in range(1000):\n",
    "    x = mark_twain_function(\"help\")\n",
    "    if x not in word_list:\n",
    "        word_list.append(x)\n",
    "##In this case, the letters can only switch from el -> le\n",
    "print(\"Second test passed?:\",word_list==[\"hlep\"])\n",
    "\n",
    "word_list = []\n",
    "for i in range(1000):\n",
    "    x = mark_twain_function(\"abcdefghijkl\")\n",
    "    if x not in word_list:\n",
    "        word_list.append(x)\n",
    "print(\"Third test passed?:\",len(word_list)==45)\n",
    "\n",
    "print(\"Fourth test passed?:\",mark_twain_function(\"hello!\")==\"\")\n",
    "\n",
    "print(\"Fifth test passed?:\", mark_twain_function(\"42 is the answer\")==\"\")"
   ]
  },
  {
   "cell_type": "code",
   "execution_count": 12,
   "metadata": {},
   "outputs": [],
   "source": [
    "#Do not modify this code block\n",
    "def word_replacer(string):\n",
    "    output_string = \"\"\n",
    "    temp_word = \"\"\n",
    "    \n",
    "    ##We know we've \"seen a word\" when we find the first non-alpha character after finding some prior letters\n",
    "    for character in string:\n",
    "        #If it's not alpha, we merely need to preserve it\n",
    "        if character in ascii_letters:\n",
    "            temp_word+=character\n",
    "        else:\n",
    "            #First find the word\n",
    "            #Finally reset the temp word \n",
    "            flipped_word = mark_twain_function(temp_word)\n",
    "            output_string+=mark_twain_function(temp_word)+character\n",
    "            temp_word = \"\"\n",
    "    #Handle last character not being newline and we currently have a word\n",
    "    output_string+=mark_twain_function(temp_word)    \n",
    "    return output_string"
   ]
  },
  {
   "cell_type": "code",
   "execution_count": 6,
   "metadata": {},
   "outputs": [],
   "source": [
    "#Do not modify this code block\n",
    "\n",
    "\n",
    "##Process file\n",
    "##This is where we will write our transformed text too\n",
    "\n",
    "import os\n",
    "try:\n",
    "    os.remove(file_name[0:len(file_name)-4]+\"_output.txt\")\n",
    "\n",
    "except:\n",
    "    print(\"File did not exist, can't delete!\")\n",
    "\n",
    "##Open the output file ready to append to it notice the a instead of r\n",
    "file_output = open(file_name[0:len(file_name)-4]+\"_output.txt\",\"a\")\n",
    "\n",
    "##Write our new \"scrambled\" words to the output file\n",
    "for i in lines_of_file:\n",
    "    #Call our word function\n",
    "    result = word_replacer(i)\n",
    "    #Notice the print isn't viewable by you!  That's because it's writing to the file\n",
    "    print(result,file=file_output)\n",
    "    \n",
    "file_output.close()   "
   ]
  },
  {
   "cell_type": "code",
   "execution_count": 7,
   "metadata": {},
   "outputs": [
    {
     "name": "stdout",
     "output_type": "stream",
     "text": [
      "﻿\n",
      "\n",
      "\n",
      "\n",
      " Peojrct Gutebnerg EooBk  Pirde  Pcejudire,  Jnae Ausetn\n",
      "\n",
      "\n",
      "\n",
      "\n",
      "\n",
      "\n",
      "\n",
      "Tihs eB\\ook      aynone anhwyere   csot  wtih\n",
      "\n",
      "\n",
      "\n",
      "almsot  reotrictisns whetsoaver.    cpoy , gvie  aawy \n",
      "\n",
      "\n",
      "\n",
      "-  unedr  trems   Projcet Gutenrebg Licnese iuclnded\n",
      "\n",
      "\n",
      "\n",
      "wtih tihs eB\\ook  o\\nline  .gutneberg.\n",
      "\n",
      "\n",
      "\n",
      "\n",
      "\n",
      "\n",
      "\n",
      "\n",
      "\n",
      "\n",
      "\n",
      "Ttile: Prdie  Preiudjce\n",
      "\n",
      "\n",
      "\n",
      "\n",
      "\n",
      "\n",
      "\n",
      "Ahtuor: Jnae Auetsn\n",
      "\n",
      "\n",
      "\n",
      "\n",
      "\n",
      "\n",
      "\n",
      "Relaese Dtae: A\\ugust 26, 2008 [EooBk #1342]\n",
      "\n",
      "\n",
      "\n",
      "Lsat Updetad: Nvoember 12, 2019\n",
      "\n",
      "\n",
      "\n"
     ]
    }
   ],
   "source": [
    "##Check to make sure the swaps actually occured\n",
    "output_file = open(file_output.name,\"r\")\n",
    "\n",
    "out_lines = output_file.readlines()\n",
    "\n",
    "out_lines_first_30 = out_lines[:30:]\n",
    "\n",
    "for i in out_lines_first_30:\n",
    "    print(i)"
   ]
  }
 ],
 "metadata": {
  "kernelspec": {
   "display_name": "Python 3",
   "language": "python",
   "name": "python3"
  },
  "language_info": {
   "codemirror_mode": {
    "name": "ipython",
    "version": 3
   },
   "file_extension": ".py",
   "mimetype": "text/x-python",
   "name": "python",
   "nbconvert_exporter": "python",
   "pygments_lexer": "ipython3",
   "version": "3.7.4"
  }
 },
 "nbformat": 4,
 "nbformat_minor": 2
}
