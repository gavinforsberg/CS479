{
 "cells": [
  {
   "cell_type": "markdown",
   "metadata": {},
   "source": [
    "# Lab3 due Feb 14th at 11:55 PM\n",
    "\n",
    "# CS 497 Introduction to Python Programming\n",
    "\n",
    "\n",
    "\n",
    "### Instructions\n",
    "0. Remember to comment.  If your code fails to perform the task at hand but your comments are describing proper code execution I can award a substanial amount of points for logical errors in your program.  Think of comments as the equivalent of showing your work in a math class.\n",
    "1. Read all instructions carefully, ask questions if anything is confusing.  \n",
    "2. Fill in the code/text blocks to answer each question.\n",
    "3. Do **not** change any of the existing code provided.  The code is specifically there to help you!\n",
    "4. Run the entire notebook *before* submitting it on Sakai to make sure that the code actually runs without errors.\n",
    "5. **Important**: Any question for which your code fails to run will receive 0 points.\n",
    "6. Have fun!\n",
    "7. DO NOT USE ANY PACKAGES, other than the ones I have imported.  Part of learning is to struggle through the \"hard way\" before getting to do things the easy way.  Any packages I have imported are fair game and you may use any functions unless otherwise specified.  If I've imported them after a function, I've deliberately made it so you cannot retroactively use them in an earlier problem.\n",
    "8. If I've used return(None) for a function, you may definitely change the return type.  It's just a placeholder\n",
    "9. While you may discuss the concepts of the problems with your peers your code will need to be yours and yours alone.\n",
    "\n",
    "** 10. Replace CS497 with your BU Net ID (your email ID) example: if I was turning in this assignment my file would be called dbrennan_lab3.  **"
   ]
  },
  {
   "cell_type": "markdown",
   "metadata": {},
   "source": [
    "# Problem 1 (50 points)\n",
    "\n",
    "# Lowercasing a string\n",
    "\n",
    "We've used the string.lower() method at least once in class.  How is it implemented?  We don't know, but once again we don't really care.  We know we can call that method (it's a method not a function because its bound to the string object, we will get into this in the later weeks of the class) on any string.  Any uppercase letters will be translated to lowercase letters.  \n",
    "\n",
    "**you of course may not use string.lower() in your solution, in fact you may not use ANY string methods!**\n",
    "\n",
    "We are going old-school and solving this problem using the attached ascii table (I've printed it out to make your lives easier)\n",
    "\n",
    "https://www.eecis.udel.edu/~amer/CISC651/ASCII-Conversion-Chart.pdf\n",
    "\n",
    "If you recall from the string lecture there are certainly some useful functions that help navigate this table!"
   ]
  },
  {
   "cell_type": "code",
   "execution_count": 1,
   "metadata": {
    "scrolled": true
   },
   "outputs": [
    {
     "name": "stdout",
     "output_type": "stream",
     "text": [
      "ascii_lowercase is: abcdefghijklmnopqrstuvwxyz\n",
      "ascii_uppercase is: ABCDEFGHIJKLMNOPQRSTUVWXYZ\n",
      "digits is: 0123456789\n"
     ]
    }
   ],
   "source": [
    "#To save time in the future, let's use these for ascii letters and numbers (you may use these for hw/tests)\n",
    "from string import ascii_lowercase\n",
    "from string import ascii_uppercase\n",
    "from string import digits\n",
    "\n",
    "print(\"ascii_lowercase is:\", ascii_lowercase)\n",
    "print(\"ascii_uppercase is:\", ascii_uppercase)\n",
    "print(\"digits is:\", digits)"
   ]
  },
  {
   "cell_type": "code",
   "execution_count": 2,
   "metadata": {},
   "outputs": [],
   "source": [
    "def lowercase(string):\n",
    "    temp = \"\"\n",
    "    newString = \"\"\n",
    "    \n",
    "    for i in range (len(string)):\n",
    "        temp = ord(string[i])\n",
    "        if(temp >= 65 and temp <= 91):\n",
    "            newString += chr(temp + 32) \n",
    "            #print(\"newString is\", newString)\n",
    "        else:\n",
    "            newString += string[i]     \n",
    "       \n",
    "    return newString  \n",
    "    pass"
   ]
  },
  {
   "cell_type": "code",
   "execution_count": 23,
   "metadata": {},
   "outputs": [
    {
     "name": "stdout",
     "output_type": "stream",
     "text": [
      "True\n",
      "True\n",
      "True\n",
      "True\n"
     ]
    }
   ],
   "source": [
    "## Testing you must pass all of these test cases!\n",
    "## After you have implemented lowercase() these should print True (they will initially print False)\n",
    "\n",
    "print(lowercase(\"HELLO\")==\"HELLO\".lower())\n",
    "print(lowercase(\"1337\")==\"1337\".lower()) \n",
    "print(lowercase(\"I hope this WORKS!\")==\"I hope this WORKS!\".lower())\n",
    "print(lowercase(\"\")==\"\".lower())"
   ]
  },
  {
   "cell_type": "markdown",
   "metadata": {},
   "source": [
    "# Problem 2 (50 points)\n",
    "\n",
    "In this problem we will be building a function to rotate a string by an integer n that puts the last n characters in front of the string.  \n",
    "\n",
    "rotate_string(\"hello world\",3) would return \"rldhello wo\"\n",
    "\n",
    "If the string is empty or a single character, the function should simply return the string\n",
    "unchanged. \n",
    "\n",
    "If shift amount is greater than the length of the string, return the difference between shift-len(string) as spaces\n",
    "\n",
    "rotate_string(\"cat\",5) would yield \"  cat\" (cat with 2 spaces) since shift=5, len(string)=3, 5-3=2 spaces get padded to the string\n",
    "\n",
    "**hint: If you have a thorough grasp of slicing strings, this problem is comically easy**"
   ]
  },
  {
   "cell_type": "code",
   "execution_count": 4,
   "metadata": {},
   "outputs": [],
   "source": [
    "def rotate_string(string, shift):\n",
    "    difference = shift - len(string)\n",
    "    shift_string = \"\"\n",
    "    spaced_string = \"\"\n",
    "    \n",
    "    if len(string) == 0 or len(string) <= 1:\n",
    "        return string\n",
    "    elif shift > len(string):\n",
    "        spaced_string = (\" \" * difference) + string\n",
    "        return spaced_string\n",
    "    else:\n",
    "        string1 = string[len(string) - shift::]\n",
    "        string2 = string[:len(string) - shift:]\n",
    "        return string1 + string2 \n",
    "    \n",
    "    pass"
   ]
  },
  {
   "cell_type": "code",
   "execution_count": 5,
   "metadata": {},
   "outputs": [
    {
     "name": "stdout",
     "output_type": "stream",
     "text": [
      "True\n",
      "True\n",
      "True\n",
      "True\n"
     ]
    }
   ],
   "source": [
    "## Testing you must pass all of these test cases!\n",
    "## After you have implemented rotate_string() these should print True (they will initially print False)\n",
    "\n",
    "print(rotate_string(\"hello world\",3)==\"rldhello wo\")\n",
    "print(rotate_string(\"cat\",5)==\"  cat\")\n",
    "print(rotate_string(\"a\",7)==\"a\")\n",
    "print(rotate_string(\"test\",4)==\"test\")"
   ]
  }
 ],
 "metadata": {
  "kernelspec": {
   "display_name": "Python 3",
   "language": "python",
   "name": "python3"
  },
  "language_info": {
   "codemirror_mode": {
    "name": "ipython",
    "version": 3
   },
   "file_extension": ".py",
   "mimetype": "text/x-python",
   "name": "python",
   "nbconvert_exporter": "python",
   "pygments_lexer": "ipython3",
   "version": "3.7.4"
  }
 },
 "nbformat": 4,
 "nbformat_minor": 2
}
