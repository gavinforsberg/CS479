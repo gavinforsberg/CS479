{
 "cells": [
  {
   "cell_type": "markdown",
   "metadata": {},
   "source": [
    "### Lab7 due April 10th at 11:55 PM\n",
    "\n",
    "# CS 497 Introduction to Python Programming\n",
    "\n",
    "\n",
    "\n",
    "### Instructions\n",
    "0. Remember to comment.  If your code fails to perform the task at hand but your comments are describing proper code execution I can award a substanial amount of points for logical errors in your program.  Think of comments as the equivalent of showing your work in a math class.\n",
    "1. Read all instructions carefully, ask questions if anything is confusing.  \n",
    "2. Fill in the code/text blocks to answer each question.\n",
    "3. Do **not** change any of the existing code provided.  The code is specifically there to help you!\n",
    "4. Run the entire notebook *before* submitting it on Sakai to make sure that the code actually runs without errors.\n",
    "5. **Important**: Any question for which your code fails to run will receive 0 points.\n",
    "6. Have fun!\n",
    "7. DO NOT USE ANY PACKAGES, other than the ones I have imported.  Part of learning is to struggle through the \"hard way\" before getting to do things the easy way.  Any packages I have imported are fair game and you may use any functions unless otherwise specified.  If I've imported them after a function, I've deliberately made it so you cannot retroactively use them in an earlier problem.\n",
    "8. If I've used return(None) for a function, you may definitely change the return type.  It's just a placeholder\n",
    "9. While you may discuss the concepts of the problems with your peers your code will need to be yours and yours alone.\n",
    "10. Replace CS497 with your BUID (ie if I was turning in this assignment my file would be called dbrennan_lab7SP20).  "
   ]
  },
  {
   "cell_type": "code",
   "execution_count": null,
   "metadata": {},
   "outputs": [],
   "source": [
    "import random \n",
    "import matplotlib.pyplot as plt\n",
    "import math"
   ]
  },
  {
   "cell_type": "markdown",
   "metadata": {},
   "source": [
    "In today's lab we are going to work with the random library and approximate pi using a probabilistic approach (monte carlo combined with a uniform distribution).  While probability knowledge is certainly not a prerequistie for this class if you want a visual representation of what we are doing you can follow the logic below.  \n",
    "\n",
    "We are going to take a square with sides K.  We are going to have a circle inscribed in the square with diamater K (and radius K/2)\n",
    "\n",
    "$area_{square}=K^2$\n",
    "\n",
    "$area_{circle}=\\pi(\\frac{K}{2})^2$\n",
    "\n",
    "If we were to randomly generate a very large number N (x,y) coordinate pairs we might hope that the proportion of darts that fall within the red circle would be $proportion_{red circle} = \\frac{\\pi(\\frac{K}{2})^2}{K^2}=\\frac{\\pi(\\frac{K^2}{4})}{K^2}=\\frac{\\pi}{4}\\approx 0.785$\n",
    "\n",
    "Changing this problem slightly, lets say we didn't know what the value of $\\pi$ was and we wanted to determine it through a monte carlo trial.\n",
    "\n",
    "Using a uniform distribution we can approximate pi quite accurately!  A uniform distribution is one such that the probability is constant.  If a uniform distribution ranges from 0 to 10, the probability of a number being between 5 and 6 is the same as a number being between 0 and 1.  This is NOT true in a normal distribution (the bell curve caused by using the gaussian) popular amoung professors!\n",
    "\n",
    "$proportion_{circle} = \\frac{\\pi}{4}$\n",
    "\n",
    "$4*proportion_{circle} = \\frac{\\pi}{4}*4 = \\pi$\n",
    "\n",
    "\n",
    "We will generate N tuples, and approximate pi!\n",
    "\n",
    "We will simplify this mathematically by assuming our circle is centered at the origin, and the radius of the circle is 1."
   ]
  },
  {
   "cell_type": "markdown",
   "metadata": {},
   "source": [
    "Your first task is to generate a function to check if a point falls within a circle with radius K (or on the boundary).  To simplify this lab, let's assume that the circle is centered at (0,0) in an x-y coordinate system.  I have provided a few test cases your function should pass before you move on.  If a point is within the circle return true, otherwise return false.  No need to worry about robust error handling here, just a simple return statement.  Let's pretend this is tennis and lines are in, so anything actually on the circle is considered in the circle.\n"
   ]
  },
  {
   "cell_type": "code",
   "execution_count": null,
   "metadata": {},
   "outputs": [],
   "source": [
    "def inCircle(x_coord, y_coord, circle_radius):\n",
    "    #your code here || Formula to check where the point lies\n",
    "    if math.sqrt((x_coord**2) + (y_coord**2)) <= circle_radius:\n",
    "        return True\n",
    "    else:\n",
    "        return False"
   ]
  },
  {
   "cell_type": "code",
   "execution_count": null,
   "metadata": {},
   "outputs": [],
   "source": [
    "#true\n",
    "inCircle(math.sqrt(2)/2, math.sqrt(2)/2, 1)\n",
    "\n",
    "#false\n",
    "inCircle(.8, .8, 1)"
   ]
  },
  {
   "cell_type": "markdown",
   "metadata": {},
   "source": [
    "To generate a random number with a uniform distribution we can call random.uniform with our low and high bounds.  \n",
    "\n",
    "Let's keep this lab very easy and assume we are operating with x ranging from -1 to 1, and y ranging from -1 to 1."
   ]
  },
  {
   "cell_type": "code",
   "execution_count": 4,
   "metadata": {
    "scrolled": false
   },
   "outputs": [],
   "source": [
    "k = random.uniform(-1,1)"
   ]
  },
  {
   "cell_type": "markdown",
   "metadata": {},
   "source": [
    "Build a function with one input: n representing the number of random number pairs you need to generate.  Return a list of n tuples that are (x,y) coordinate pairs with x being from -1 to 1, and y being from -1 to 1\n",
    "\n",
    "We are going to introduce the **zip** tool, an awesome function you might consider using as you finish out the semester!\n",
    "\n"
   ]
  },
  {
   "cell_type": "code",
   "execution_count": 5,
   "metadata": {
    "scrolled": false
   },
   "outputs": [
    {
     "name": "stdout",
     "output_type": "stream",
     "text": [
      "Help on class zip in module builtins:\n",
      "\n",
      "class zip(object)\n",
      " |  zip(iter1 [,iter2 [...]]) --> zip object\n",
      " |  \n",
      " |  Return a zip object whose .__next__() method returns a tuple where\n",
      " |  the i-th element comes from the i-th iterable argument.  The .__next__()\n",
      " |  method continues until the shortest iterable in the argument sequence\n",
      " |  is exhausted and then it raises StopIteration.\n",
      " |  \n",
      " |  Methods defined here:\n",
      " |  \n",
      " |  __getattribute__(self, name, /)\n",
      " |      Return getattr(self, name).\n",
      " |  \n",
      " |  __iter__(self, /)\n",
      " |      Implement iter(self).\n",
      " |  \n",
      " |  __next__(self, /)\n",
      " |      Implement next(self).\n",
      " |  \n",
      " |  __reduce__(...)\n",
      " |      Return state information for pickling.\n",
      " |  \n",
      " |  ----------------------------------------------------------------------\n",
      " |  Static methods defined here:\n",
      " |  \n",
      " |  __new__(*args, **kwargs) from builtins.type\n",
      " |      Create and return a new object.  See help(type) for accurate signature.\n",
      "\n"
     ]
    }
   ],
   "source": [
    "help(zip)"
   ]
  },
  {
   "cell_type": "markdown",
   "metadata": {},
   "source": [
    "Zip is a super useful function in python, it will essentially take in 2 or more iterables (you can think of an iterable as something you can for loop over, so far that would be lists and strings...but more will come!!!!!!) and package them into tuples up until it hits the upper bound of the shortest iterable.  Here are some examples below\n",
    "\n"
   ]
  },
  {
   "cell_type": "code",
   "execution_count": 6,
   "metadata": {
    "scrolled": true
   },
   "outputs": [
    {
     "name": "stdout",
     "output_type": "stream",
     "text": [
      "The type of zippy is: <class 'zip'>\n",
      "<zip object at 0x109c7ff00> this isn't too exciting we can't directly access the elements\n",
      "('h', 'g')\n",
      "('e', 'o')\n",
      "('l', 'o')\n",
      "('l', 'd')\n",
      "('o', 'b')\n"
     ]
    }
   ],
   "source": [
    "string = \"hello\"\n",
    "string2 = \"goodbye\"\n",
    "zippy = zip(string,string2)\n",
    "print(\"The type of zippy is:\",type(zippy))\n",
    "\n",
    "print(zippy,\"this isn't too exciting we can't directly access the elements\")\n",
    "#However we can certainly for loop over zippy!\n",
    "\n",
    "for i in zippy:\n",
    "    print(i)\n",
    "\n",
    "#Notice how hello contains 5 characters, goodbye contains 7, so it builds tuples until it runs out of one thing\n"
   ]
  },
  {
   "cell_type": "code",
   "execution_count": 7,
   "metadata": {
    "scrolled": false
   },
   "outputs": [
    {
     "name": "stdout",
     "output_type": "stream",
     "text": [
      "('F', 1, (1, 'a'))\n",
      "('l', 2, (2, 'b'))\n",
      "('i', 3, (3, 'c'))\n",
      "('b', 4, (4, 'd'))\n",
      "second for loop below:\n"
     ]
    }
   ],
   "source": [
    "string = \"Flibbertigibbet \" #This is a real word \n",
    "list1 = [1,2,3,4,5,6]\n",
    "list2 = [(1,\"a\"),(2,\"b\"),(3,\"c\"),(4,\"d\")]\n",
    "\n",
    "zippy2 = zip(string,list1,list2)\n",
    "\n",
    "for i in zippy2:\n",
    "    print(i)\n",
    "    \n",
    "#We can only iterate over a zipped object once, it's kind of like .readlines so if we try to do it again, \n",
    "# nothing happens\n",
    "\n",
    "print(\"second for loop below:\")\n",
    "for j in zippy2:\n",
    "    print(\"the element is:\",j)"
   ]
  },
  {
   "cell_type": "code",
   "execution_count": 8,
   "metadata": {},
   "outputs": [],
   "source": [
    "## Create a list of n (x,y) tuples \n",
    "## if n=10, you'll have n tuples where each value in tuple needs to range from -1 to 1\n",
    "## If you want to use zip, you can create 2 lists of random numbers and zip them together to get your tuples\n",
    "## Make sure to cast that zip object to a list\n",
    "\n",
    "def random_tuple_creator(n):\n",
    "    #Your code here\n",
    "    x,y = [],[] # Two List comprehensions, filling empty lists with n tuples\n",
    "    lc = [x.append(random.uniform(-1,1)) for i in range(n)]\n",
    "    lc2 = [y.append(random.uniform(-1,1)) for i in range(n)]\n",
    "    # Zip into list\n",
    "    zipped = list(zip(x,y))\n",
    "    return zipped                                     "
   ]
  },
  {
   "cell_type": "markdown",
   "metadata": {},
   "source": [
    "## This function will determine the value of Pi\n",
    "\n",
    "The input to the function will be that list of tuples.  Next you will need to use each of those points and determine if it's within the circle or not.  Keep track of the total number of points in the circle, and the total number of points.  To make things easy, merely loop through the input of this function and use your in circle check to keep track of the proportion in the circle."
   ]
  },
  {
   "cell_type": "code",
   "execution_count": 9,
   "metadata": {
    "scrolled": true
   },
   "outputs": [],
   "source": [
    "def piApproximation(tuple_list):\n",
    "    #Use both random_tuple_creator and in_circle to create this function\n",
    "    points_in_circle = 0  # Counts how many points land in the circle\n",
    "    a, b = list(zip(*tuple_list)) # Adds first of pair to list A, adds second of pair to list B\n",
    "    c = len(a)  # Count to go through list (indices must be an int)\n",
    "    \n",
    "    for i in tuple_list: # Loop through the list of tuples\n",
    "        c -= 1 # Decrements the count\n",
    "        if inCircle(a[c], b[c], 1): # Checks x and y coordinate with radius 1, if so adds to variable\n",
    "            points_in_circle += 1  \n",
    "            \n",
    "    pi = (points_in_circle / len(tuple_list)) * 4  # Pi / Four = Points in the circle / Total points\n",
    "    return pi"
   ]
  },
  {
   "cell_type": "code",
   "execution_count": 10,
   "metadata": {
    "scrolled": false
   },
   "outputs": [],
   "source": [
    "##DO NOT CHANGE THIS CODE\n",
    "starting_number = 1000\n",
    "approx_pi = []\n",
    "n_number = []\n",
    "\n",
    "for i in range(1,101,1):\n",
    "    approx_pi.append(piApproximation(random_tuple_creator(i*starting_number)))\n",
    "    n_number.append(i*starting_number)\n"
   ]
  },
  {
   "cell_type": "code",
   "execution_count": 11,
   "metadata": {},
   "outputs": [
    {
     "data": {
      "image/png": "[encoded data removed]",
      "text/plain": [
       "<Figure size 432x288 with 1 Axes>"
      ]
     },
     "metadata": {},
     "output_type": "display_data"
    }
   ],
   "source": [
    "##DO NOT CHANGE THIS CODE\n",
    "##XKCD is awesome, so lets make an xkcd style plot!\n",
    "with plt.xkcd():\n",
    "    plt.scatter(n_number, approx_pi)\n",
    "    plt.xlabel(\"Number of tuples\")\n",
    "    plt.ylabel(\"Number predicted\")\n",
    "    plt.title(\"Monte Carlo Simulation of Pi using tuples\")\n",
    "    plt.axhline(linewidth=2, color='r',y=math.pi)\n"
   ]
  },
  {
   "cell_type": "markdown",
   "metadata": {},
   "source": [
    "# What am I doing with my code above?  Explain why the plot looks the way it does.  What do you notice as n increases (pay attention to low values and high values plotted here)?  Was this lab more straightforward than other labs?  What didn't you like?  What did you like?"
   ]
  },
  {
   "cell_type": "markdown",
   "metadata": {},
   "source": [
    "Your thoughts here (half a dozen sentences or so):"
   ]
  },
  {
   "cell_type": "code",
   "execution_count": 12,
   "metadata": {},
   "outputs": [],
   "source": [
    "# It seems like xkcd alows you to creat a chart or graph with a title and labels, scattering plots for each of my \n",
    "# approximations for pi - around a line showing actual pi (3.14159...). As n increases, the approximation of pi gets \n",
    "# more accurate, which is why at the start, the plots are not as close to the line (pi) as further across the chart.\n",
    "\n",
    "# Tuples were very confusing to me at first. Once I figured out what we were actually doing in the lab, the first two\n",
    "# functions were not as difficult to write as the last, where I struggled with using the tuples again. I generally \n",
    "# like just that we're learning more built-in functions and sequences, etc. in Python. "
   ]
  }
 ],
 "metadata": {
  "kernelspec": {
   "display_name": "Python 3",
   "language": "python",
   "name": "python3"
  },
  "language_info": {
   "codemirror_mode": {
    "name": "ipython",
    "version": 3
   },
   "file_extension": ".py",
   "mimetype": "text/x-python",
   "name": "python",
   "nbconvert_exporter": "python",
   "pygments_lexer": "ipython3",
   "version": "3.7.4"
  }
 },
 "nbformat": 4,
 "nbformat_minor": 2
}
