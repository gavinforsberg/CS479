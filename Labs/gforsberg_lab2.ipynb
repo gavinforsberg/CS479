{
 "cells": [
  {
   "cell_type": "markdown",
   "metadata": {},
   "source": [
    "\n",
    "### Instructions\n",
    "0. Rename this file yourName_lab2.  **Not literally, yourName_lab2 (technically correct, the best kind of correct!) but use your BU ID to fill in yourName.**\n",
    "1. Read all instructions carefully, ask questions if anything is confusing.  \n",
    "2. Fill in the code/text blocks to answer each question.\n",
    "3. Do *not* change any of the existing code provided.  The code is specifically there to help you!\n",
    "4. Run the entire notebook *before* submitting it on Sakai to make sure that the code actually runs without errors.\n",
    "5. **Important**: Any question for which your code fails to run will receive 0 points.\n",
    "6. Have fun!\n",
    "7. Extra credit (if applicable) will only be granted if this lab is turned in before the end of class\n",
    "8. **Do not import any packages!**  Any packages available to you are designed to be used from their import statement down.  \n",
    "\n",
    "Example:  Problem 1 doesn't have any import statements.  Problem 2 imports one package called \"A\".  Problem 3 imports one package called \"B\".  You may not use \"A\" or \"B\" for problem 1, you may not use \"B\" for problem 2 and you may use both for problem 3.  If you were to restart and rerun all cells in your notebook you would not be able to use a package prior to importing it so it logically makes sense as well!"
   ]
  },
  {
   "cell_type": "code",
   "execution_count": 1,
   "metadata": {},
   "outputs": [
    {
     "name": "stdout",
     "output_type": "stream",
     "text": [
      "abcdefghijklmnopqrstuvwxyz\n"
     ]
    }
   ],
   "source": [
    "##Only lowercase letters for this lab!\n",
    "##Only input things in this lab using lowercase, we will begin dealing with uppercase next week\n",
    "\n",
    "from string import ascii_lowercase\n",
    "print(ascii_lowercase)"
   ]
  },
  {
   "cell_type": "markdown",
   "metadata": {},
   "source": [
    "# Problem #1 (20 points+3 optional points of extra credit if turned in by the end of class - submitted on sakai)\n",
    "\n",
    "We are going to work with a simple user input!  When you call the input function, whatever is supplied is returned as a string!\n",
    "\n",
    "First take in a user string input prompting them for their first name.  **Use the input function**\n",
    "\n",
    "**Then:**\n",
    "\n",
    "Print the following:\n",
    "Welcome to CS 497 Python Programming, their_name!\n",
    "\n",
    "**Extra credit version: (let's not consider y a vowel for this assignment)**\n",
    "\n",
    "If their name starts with a vowel print:\n",
    "Welcome to CS 497 Python Programming, their_name!\n",
    "\n",
    "If it doesn't start with a vowel print:\n",
    "their_name, Welcome to CS 497 Python Programming!\n",
    "\n",
    "\n"
   ]
  },
  {
   "cell_type": "code",
   "execution_count": 4,
   "metadata": {},
   "outputs": [
    {
     "name": "stdout",
     "output_type": "stream",
     "text": [
      "Enter your name.\n",
      "dave\n",
      "dave , welcome to CS 497 Python Programming!\n"
     ]
    }
   ],
   "source": [
    "### Write your code here\n",
    "\n",
    "user_input = input(\"Enter your name.\\n\")\n",
    "\n",
    "for i in user_input:\n",
    "    if i in \"aeiouAEIOU\":\n",
    "            print(\"Welcome to CS 497 Python Programming\", user_input, \"!\")\n",
    "            break\n",
    "    else:\n",
    "        print (user_input, \", welcome to CS 497 Python Programming!\")\n",
    "        break\n",
    "###"
   ]
  },
  {
   "cell_type": "markdown",
   "metadata": {},
   "source": [
    "# Problem #2 (80 points) \n",
    "\n",
    "**A vowelagram is a word that contains strictly more vowels than consonants.  A word containing equal vowels to consonants is not considered a vowelagram, and of course trivially a word containing less vowels than consonants is also not a vowelagram.  A vowelagram is also a word I entirely made up, so it's not online!**\n",
    "\n",
    "\n",
    "**Note: there are many ways to do this problem.  Think of a reasonable way to solve it, and work with that**\n",
    "\n",
    "**Off the top of my head, words with more vowels than consonants are:**\n",
    "\n",
    "**email**\n",
    "\n",
    "**ukulele**\n"
   ]
  },
  {
   "cell_type": "code",
   "execution_count": 2,
   "metadata": {},
   "outputs": [
    {
     "name": "stdout",
     "output_type": "stream",
     "text": [
      "Enter a word!\n",
      "titties\n",
      "Your word is : titties\n",
      "Word is NOT a vowelagram!\n"
     ]
    }
   ],
   "source": [
    "#You can change sentence as you test different words\n",
    "#update result to True if it is indeed a vowelagram\n",
    "#sentence = \"ukulele\"\n",
    "#result = False\n",
    "##Your code goes here\n",
    "    \n",
    "user_string = input(\"Enter a word!\\n\") \n",
    "\n",
    "is_vowelagram = False\n",
    "\n",
    "vowels = 0\n",
    "consonants = 0\n",
    "    \n",
    "for i in user_string:\n",
    "    if i in \"AEIOUaeiou\":\n",
    "            vowels += 1\n",
    "    else:\n",
    "        consonants += 1\n",
    "    \n",
    "print(\"Your word is :\", user_string)\n",
    "\n",
    "if(vowels > consonants):\n",
    "    print(\"Word is a vowelagram!\")\n",
    "else:\n",
    "    print(\"Word is NOT a vowelagram!\")\n",
    "    \n",
    "##\n",
    "#print(\"Your word is :\", user_string ,\"\\n\")\n",
    "#print(\"Is a vowelagram? :\", is_vowelagram)"
   ]
  }
 ],
 "metadata": {
  "kernelspec": {
   "display_name": "Python 3",
   "language": "python",
   "name": "python3"
  },
  "language_info": {
   "codemirror_mode": {
    "name": "ipython",
    "version": 3
   },
   "file_extension": ".py",
   "mimetype": "text/x-python",
   "name": "python",
   "nbconvert_exporter": "python",
   "pygments_lexer": "ipython3",
   "version": "3.7.4"
  }
 },
 "nbformat": 4,
 "nbformat_minor": 2
}
