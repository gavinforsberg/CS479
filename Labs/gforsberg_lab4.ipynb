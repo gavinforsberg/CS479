{
 "cells": [
  {
   "cell_type": "markdown",
   "metadata": {},
   "source": [
    "### Lab4 due Feb 21st at 11:55 PM\n",
    "\n",
    "# CS 497 Introduction to Python Programming\n",
    "\n",
    "\n",
    "\n",
    "### Instructions\n",
    "0. Remember to comment.  If your code fails to perform the task at hand but your comments are describing proper code execution I can award a substanial amount of points for logical errors in your program.  Think of comments as the equivalent of showing your work in a math class.\n",
    "1. Read all instructions carefully, ask questions if anything is confusing.  \n",
    "2. Fill in the code/text blocks to answer each question.\n",
    "3. Do **not** change any of the existing code provided.  The code is specifically there to help you!\n",
    "4. Run the entire notebook *before* submitting it on Sakai to make sure that the code actually runs without errors.\n",
    "5. **Important**: Any question for which your code fails to run will receive 0 points.\n",
    "6. Have fun!\n",
    "7. DO NOT USE ANY PACKAGES, other than the ones I have imported.  Part of learning is to struggle through the \"hard way\" before getting to do things the easy way.  Any packages I have imported are fair game and you may use any functions unless otherwise specified.  If I've imported them after a function, I've deliberately made it so you cannot retroactively use them in an earlier problem.\n",
    "8. If I've used return(None) for a function, you may definitely change the return type.  It's just a placeholder\n",
    "9. While you may discuss the concepts of the problems with your peers your code will need to be yours and yours alone.\n",
    "10. Replace CS497 with your BUID (ie if I was turning in this assignment my file would be called dbrennan_lab4).  "
   ]
  },
  {
   "cell_type": "code",
   "execution_count": 1,
   "metadata": {
    "scrolled": false
   },
   "outputs": [
    {
     "name": "stdout",
     "output_type": "stream",
     "text": [
      "capitalize\n",
      "casefold\n",
      "center\n",
      "count\n",
      "encode\n",
      "endswith\n",
      "expandtabs\n",
      "find\n",
      "format\n",
      "format_map\n",
      "index\n",
      "isalnum\n",
      "isalpha\n",
      "isascii\n",
      "isdecimal\n",
      "isdigit\n",
      "isidentifier\n",
      "islower\n",
      "isnumeric\n",
      "isprintable\n",
      "isspace\n",
      "istitle\n",
      "isupper\n",
      "join\n",
      "ljust\n",
      "lower\n",
      "lstrip\n",
      "maketrans\n",
      "partition\n",
      "replace\n",
      "rfind\n",
      "rindex\n",
      "rjust\n",
      "rpartition\n",
      "rsplit\n",
      "rstrip\n",
      "split\n",
      "splitlines\n",
      "startswith\n",
      "strip\n",
      "swapcase\n",
      "title\n",
      "translate\n",
      "upper\n",
      "zfill\n"
     ]
    }
   ],
   "source": [
    "#If you are wondering what functions a string has available to it check this out\n",
    "string = \"hello world\"\n",
    "\n",
    "#Don't worry about dir, we will see that later\n",
    "functions = [i for i in dir(string) if i[0] != \"_\"]\n",
    "for i in functions:\n",
    "    print(i)\n",
    "    \n",
    "#You can also run the first line of this block, type string. and press tab to view all the object information (methods are last)"
   ]
  },
  {
   "cell_type": "code",
   "execution_count": 2,
   "metadata": {},
   "outputs": [
    {
     "name": "stdout",
     "output_type": "stream",
     "text": [
      "original string: hello world, no capitals 123!\n",
      "HELLO WORLD, NO CAPITALS 123!\n",
      "hello world, no capitals 123!\n"
     ]
    }
   ],
   "source": [
    "##For example I can take a lowercase string and capitilize it!\n",
    "string = \"hello world, no capitals 123!\"\n",
    "print(\"original string:\",string)\n",
    "upper_string = string.upper()\n",
    "print(upper_string)\n",
    "##We can also lowercase it!\n",
    "lower_string = upper_string.lower()\n",
    "print(lower_string)\n",
    "\n"
   ]
  },
  {
   "cell_type": "code",
   "execution_count": 3,
   "metadata": {},
   "outputs": [],
   "source": [
    "#One of these functions will help you write a list comprehension to determine all the unique characters in a string\n",
    "#Here is approximately the old way we did it in class\n",
    "    \n",
    "def unique(string):\n",
    "    output = \"\"\n",
    "    for i in string:\n",
    "        if i not in output:\n",
    "            output+=i\n",
    "    return output\n",
    "\n",
    "unique(\"hello world\")"
   ]
  },
  {
   "cell_type": "markdown",
   "metadata": {},
   "source": [
    "# Problem 1 (10 points)\n",
    "\n",
    "Write a list comprehension using one of the above functions.  **hint: the function you are looking for begins with c**\n",
    "\n",
    "**Here is the python documentation for string methods**\n",
    "\n",
    "# https://docs.python.org/2/library/string.html"
   ]
  },
  {
   "cell_type": "code",
   "execution_count": null,
   "metadata": {},
   "outputs": [],
   "source": [
    "#def unique_one_line(string):\n",
    "    #Write your list comprehension below, do not use sets (we cover these later)\n",
    "    \n",
    "##Logic here is that we are going to use the length of the string to create bigger and bigger slices\n",
    "##When we use count and encounter a second instance of a letter, count will return 2 instead of 1, therefore \n",
    "##not adding that character to our resulting list\n",
    "##Since we wanted to replace the unique function up above, we can merely just \"\".join(list) to create a string\n",
    "\n",
    "def unique_one_line(string):\n",
    "    return \"\".join([string[i] for i in range(len(string)) if string[:i+1].count(string[i]) == 1])"
   ]
  },
  {
   "cell_type": "markdown",
   "metadata": {},
   "source": [
    "# Problem 2 (10 points)\n",
    "\n",
    "the swapcase method for strings takes lowercase letters and capitlizes them, and then takes uppercase letters and makes them lowercase.\n",
    "\n",
    "**Without using the swapcase method, build your own using a function and taking in a string**\n"
   ]
  },
  {
   "cell_type": "code",
   "execution_count": 5,
   "metadata": {
    "scrolled": true
   },
   "outputs": [
    {
     "name": "stdout",
     "output_type": "stream",
     "text": [
      "original string: I like to code in Python!\n",
      "i LIKE TO CODE IN pYTHON!\n"
     ]
    }
   ],
   "source": [
    "string = \"I like to code in Python!\"\n",
    "print(\"original string:\",string)\n",
    "swapped_string = string.swapcase()\n",
    "print(swapped_string)\n",
    "\n"
   ]
  },
  {
   "cell_type": "code",
   "execution_count": null,
   "metadata": {},
   "outputs": [],
   "source": [
    "from string import ascii_lowercase as lowercase\n",
    "from string import ascii_uppercase as uppercase\n",
    "\n",
    "print(lowercase)\n",
    "print(uppercase)"
   ]
  },
  {
   "cell_type": "code",
   "execution_count": 6,
   "metadata": {},
   "outputs": [
    {
     "data": {
      "text/plain": [
       "'wInNiNg'"
      ]
     },
     "execution_count": 6,
     "metadata": {},
     "output_type": "execute_result"
    }
   ],
   "source": [
    "from string import ascii_lowercase\n",
    "from string import ascii_uppercase\n",
    "def swapcase_function(string):\n",
    "    new_string = \"\"\n",
    "    \n",
    "    for i in string:\n",
    "        if i in ascii_lowercase:\n",
    "            new_string += i.upper()\n",
    "        elif i in ascii_uppercase:\n",
    "            new_string += i.lower()\n",
    "\n",
    "    return new_string\n",
    "\n",
    "swapcase_function(\"WiNnInG\")"
   ]
  },
  {
   "cell_type": "markdown",
   "metadata": {},
   "source": [
    "# Problem 3 (45 points)\n",
    "\n",
    "Write a function vowel_reverser that takes a word (a string) and reverses the vowels.\n",
    "\n",
    "vowels = \"aeiouAEIOU\"\n",
    "\n",
    "\"Hello\" becomes \"Holle\" \n",
    "\n",
    "\"butterscotch\" becomes \"botterscutch\".  The e didn't switch places with anything.\n",
    "\n",
    "If the word contains anything other than letters [A..Za..z] return the empty string.  Punctuation, special symbols, hypthens, spaces etc should return the empty string."
   ]
  },
  {
   "cell_type": "code",
   "execution_count": 7,
   "metadata": {},
   "outputs": [
    {
     "data": {
      "text/plain": [
       "'botterscutch'"
      ]
     },
     "execution_count": 7,
     "metadata": {},
     "output_type": "execute_result"
    }
   ],
   "source": [
    "#ascii_letters is uppercase + lowercase combined\n",
    "from string import ascii_letters\n",
    "results = []\n",
    "vowels = \"AEIOUaeiou\"\n",
    "def reversed_vowel(input_string):\n",
    "    str_list = list(input_string)\n",
    "    x = 0\n",
    "    v = len(str_list) - 1\n",
    "    \n",
    "    for i in input_string:\n",
    "        if x < v:\n",
    "            if str_list[x] not in vowels:\n",
    "                x += 1\n",
    "            elif str_list[v] not in vowels:\n",
    "                v -= 1\n",
    "            else:\n",
    "                str_list[x], str_list[v] = str_list[v], str_list[x]\n",
    "                x += 1\n",
    "                v -= 1\n",
    "        else:\n",
    "            break\n",
    "       \n",
    "    output = \"\".join(str_list)\n",
    "    return output\n",
    "\n",
    "reversed_vowel(\"butterscotch\")"
   ]
  },
  {
   "cell_type": "markdown",
   "metadata": {},
   "source": [
    "# Problem 4 (35 points)\n",
    "\n",
    "Recursion practice\n",
    "\n",
    "Recall from our discussion last week how recursion works\n",
    "\n",
    "Let's take the factorial example\n",
    "\n",
    "We have either a base case (a terminating condition) or a recursive step\n",
    "\n",
    "In the factorial example n!=n*(n-1)!\n",
    "\n",
    "0! = 1\n",
    "\n",
    "6! = 6x5! = 6x5x4!...=6x5x4x3x2x1x0! = 720\n",
    "\n",
    "We are going to build a function that calculates the multiplicate persistence of a number.  The term is scary, but all it means is we multiply all the digits in a number together, and we repeat until we get a single digit.  Here is an example\n",
    "\n",
    "mult_per(1234) = **1x2x3x4 = 24**\n",
    "\n",
    "24 is not a single digit, do it again!  **2x4 = 8**\n",
    "\n",
    "8 is a single digit, stop here\n",
    "\n",
    "**You must solve this using recursion!**"
   ]
  },
  {
   "cell_type": "code",
   "execution_count": 8,
   "metadata": {
    "scrolled": true
   },
   "outputs": [
    {
     "name": "stdout",
     "output_type": "stream",
     "text": [
      "8\n"
     ]
    }
   ],
   "source": [
    "def mult_per(number):\n",
    "    running_total = 1\n",
    "    string = str(number)\n",
    "    if len(str(number)) != 1:\n",
    "        for i in string:\n",
    "            running_total *= int(i)\n",
    "        mult_per(running_total)\n",
    "    else:\n",
    "        print(number) \n",
    "    \n",
    "mult_per(1234)"
   ]
  }
 ],
 "metadata": {
  "kernelspec": {
   "display_name": "Python 3",
   "language": "python",
   "name": "python3"
  },
  "language_info": {
   "codemirror_mode": {
    "name": "ipython",
    "version": 3
   },
   "file_extension": ".py",
   "mimetype": "text/x-python",
   "name": "python",
   "nbconvert_exporter": "python",
   "pygments_lexer": "ipython3",
   "version": "3.7.4"
  }
 },
 "nbformat": 4,
 "nbformat_minor": 2
}
