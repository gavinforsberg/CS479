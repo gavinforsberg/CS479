{
 "cells": [
  {
   "cell_type": "markdown",
   "metadata": {},
   "source": [
    "# Late submissions will not be allowed, this needs to be uploaded by noon today!  You have 90 minutes to complete this workbook but that does include time to upload.  I highly, highly recommend a restart run all of the workbook before you submit, if your code runs then it will run for me.\n",
    "\n",
    "This exam is open book, open notes, open slides, open internet and closed human interaction.  **Cheating on this exam will yield a very, very, very, unfortunate consequence (check your syllabus for what happens when you cheat!).  Think about if you want to risk it before you attempt it.  You will most likely autofail the course as a result of your actions.**\n",
    "\n",
    "These problems have been built to test your programming abilities most targetting content since exam 1, but of course loops, conditional logic, strings and lists are present in the problems on this exam.  The main content here is advanced list functionality, tuples, dictionaries, sets, and the random library.  \n",
    "\n",
    "**If you cannot get at least two test cases passed, erase your solution entirely.**  You will earn 25% of the points for a blank solution, but none for any question where only one test case passes.  This is due to the fact you are live coding and can check your work.  If you pass all of the test cases associated with a problem, you will 99.99% pass all of my hidden test cases unless you attempt to hardcode to the test cases or have some edge case behavior.  I've carefully crafted my test cases to try to avoid the possibility of that issue.\n",
    "\n",
    "**Failing test cases is ok, as long as your code runs partial credit is available.  If your code does not run I may not be able to give out any partial credit, so read the prior instructions carefully!!!**\n",
    "\n",
    "There are 105 total points available on the exam, you score will max out at 100 just like other exams unless you earn points on problem 0 (question 0 is pure extra credit and can boost your score over 100)."
   ]
  },
  {
   "cell_type": "markdown",
   "metadata": {},
   "source": [
    "# Problem 0 (1-2 points):\n",
    "\n",
    "Predict yours score, make a comment in this cell with what you think your score will be.  If you are within +/- 5 points you get 2 points, if you are within +/- 10 points you get 1 point.  You also need to choose which of the two you are going for, that is to say if you choose 2 points you will earn no credit for being off by 6 points.  \n",
    "\n",
    "1 point / 2 point (choose only one)\n",
    "\n",
    "Predicted score:\n",
    "Within 10\n",
    "63.5"
   ]
  },
  {
   "cell_type": "markdown",
   "metadata": {},
   "source": [
    "# Problem 1 (15 points)\n",
    "\n",
    "You have a massive string of digits and other characters, (thousands, millions long)\n",
    "\n",
    "It could start like \"213812381823152939823923423...\"\n",
    "\n",
    "Build a function digit_counter that takes in the string and counts the digits using a dictionary, **ignore everything that isn't a digit!!!**\n",
    "\n",
    "For example digit_counter(\"abc0123456789\") should return a dictionary: {'2': 1, '4': 1, '7': 1, '5': 1, '8': 1,\n",
    "'6': 1, '9': 1, '1': 1, '0': 1, '3': 1}\n",
    "\n",
    "Order of course out of your control due to python managing the dictionary so do not panic if you cannot line your answer up, two dictionaries may be \"out of order\" but if they equivalent key/value pairs, they are equivalent.  \n",
    "\n",
    "digit_counter(\"\") should return {} the empty dictionary"
   ]
  },
  {
   "cell_type": "code",
   "execution_count": 1,
   "metadata": {},
   "outputs": [],
   "source": [
    "def digit_counter(number):\n",
    "    counter = {}\n",
    "    digits = '0123456789'\n",
    "    \n",
    "    for i in number:\n",
    "        if i in digits:\n",
    "            if i in counter:\n",
    "                counter[i] += 1\n",
    "            else:\n",
    "                counter[i] = 1\n",
    "    return counter"
   ]
  },
  {
   "cell_type": "code",
   "execution_count": 2,
   "metadata": {},
   "outputs": [],
   "source": [
    "def test_question1():\n",
    "    print(\"Testing question 1...\")\n",
    "    fails = 0\n",
    "    \n",
    "    try:\n",
    "        assert(digit_counter(\"\") == {})\n",
    "    except: \n",
    "        print(\"failed test case one\")\n",
    "        fails+=1\n",
    "        \n",
    "    try:\n",
    "        assert(digit_counter(\"1234567890\") == {'1': 1,'2': 1,'3': 1,'4': 1,'5': 1,'6': 1,'7': 1,'8': 1,'9': 1,'0': 1})\n",
    "    except:\n",
    "        print(\"failed test case two\")\n",
    "        fails+=1\n",
    "        \n",
    "    try:\n",
    "        assert(digit_counter(\"abc1234567890\") == {'1': 1,'2': 1,'3': 1,'4': 1,'5': 1,'6': 1,'7': 1,'8': 1,'9': 1,'0': 1})\n",
    "    except:\n",
    "        print(\"failed test case three\")\n",
    "        fails+=1\n",
    "    try:\n",
    "        assert(digit_counter(\"abcdefwjwfkmfwkm\")=={})\n",
    "    except:\n",
    "        print(\"failed test case four\")\n",
    "        fails+=1\n",
    "    try:\n",
    "        assert(digit_counter(\"1\")=={\"1\":1})\n",
    "    except:\n",
    "        print(\"failed test case 5\")\n",
    "        fails+=1\n",
    "    if fails == 0:\n",
    "        print(\"all tests passed nice work!\")\n",
    "    else:\n",
    "        print(\"you have some work to do, you have\",fails,\"test case failures\")\n"
   ]
  },
  {
   "cell_type": "code",
   "execution_count": 3,
   "metadata": {
    "scrolled": true
   },
   "outputs": [
    {
     "name": "stdout",
     "output_type": "stream",
     "text": [
      "Testing question 1...\n",
      "all tests passed nice work!\n"
     ]
    }
   ],
   "source": [
    "test_question1()"
   ]
  },
  {
   "cell_type": "markdown",
   "metadata": {},
   "source": [
    "# Problem 2 (15 points)\n",
    "\n",
    "Given a phone number (as a string), check to make sure it's formatted properly. A properly formatted\n",
    "phone number should look like abc-def-ghij where the letters are replaced with any digit, except the\n",
    "first character cannot be 0.  Also nothing is allowed except numbers and hypthens!\n",
    "\n",
    "is_valid(\"013-123-1235\") = False (starts with 0)\n",
    "\n",
    "is_valid(\"1337-309-233\") = False (doesn't follow the 3-3-4 pattern)\n",
    "\n",
    "is_valid(\"309-123-1234\") = True (valid!)\n",
    "\n",
    "You might consider using the string split() method here, but of course don't feel forced too!"
   ]
  },
  {
   "cell_type": "code",
   "execution_count": 4,
   "metadata": {},
   "outputs": [],
   "source": [
    "def is_valid(number):\n",
    "    everything = '1234567890-'\n",
    "    split_number = number.split('-')\n",
    "    \n",
    "    for a in split_number[0]: \n",
    "        for b in split_number[1]:\n",
    "            for c in split_number[2]: #check if characters are only letters and numbers (no special characters)\n",
    "                if a not in everything or b not in everything or c not in everything:\n",
    "                    return False\n",
    "                \n",
    "    #checks if first digit is 0\n",
    "    if split_number[0][:1] == '0' or split_number[1][:1] == '0' or split_number[2][:1] == '0':\n",
    "        return False\n",
    "\n",
    "    #checks that the format of digit lengths are correct\n",
    "    if len(split_number[0]) == 3 and len(split_number[1]) == 3 and len(split_number[2]) == 4 and  len(split_number) < 4:\n",
    "        return True\n",
    "    else:\n",
    "        return False"
   ]
  },
  {
   "cell_type": "code",
   "execution_count": 5,
   "metadata": {},
   "outputs": [],
   "source": [
    "def test_question2():\n",
    "    print(\"Testing question 2...\")\n",
    "    fails = 0\n",
    "    try:\n",
    "        assert(is_valid(\"013-123-1235\") == False)\n",
    "    except: \n",
    "        print(\"failed test case one\")\n",
    "        fails+=1\n",
    "        \n",
    "    try:\n",
    "        assert(is_valid(\"1337-309-233\") == False)\n",
    "    except:\n",
    "        print(\"failed test case two\")\n",
    "        fails+=1\n",
    "        \n",
    "    try:\n",
    "        assert(is_valid(\"309-123-1234\") == True)\n",
    "    except:\n",
    "        print(\"failed test case three\")\n",
    "        fails+=1\n",
    "    try:\n",
    "        assert(is_valid(\"3094-1234-1234\") == False)\n",
    "    except:\n",
    "        print(\"failed test case four\")\n",
    "        fails+=1\n",
    "    try:\n",
    "        assert(is_valid(\"309-503-1234-1234\")==False)\n",
    "    except:\n",
    "        print(\"failed test case 5\")\n",
    "        fails+=1\n",
    "    if fails == 0:\n",
    "        print(\"all tests passed nice work!\")\n",
    "    else:\n",
    "        print(\"you have some work to do, you have\",fails,\"test case failures\")"
   ]
  },
  {
   "cell_type": "code",
   "execution_count": 6,
   "metadata": {},
   "outputs": [
    {
     "name": "stdout",
     "output_type": "stream",
     "text": [
      "Testing question 2...\n",
      "all tests passed nice work!\n"
     ]
    }
   ],
   "source": [
    "test_question2()"
   ]
  },
  {
   "cell_type": "markdown",
   "metadata": {},
   "source": [
    "# Problem 3 (15 points)\n",
    "\n",
    "Broken keyboard\n",
    "\n",
    "Given what is supposed to be typed and what is actually typed, write a function that returns the broken key(s). The function looks like:\n",
    "\n",
    "We are typing on our keyboard and notice what is supposed to be typed and what actually showed up could be different, maybe our keyboard is broken!  Given a string that was typed, and another string that models what occured determine which keys are broken, keeping track based off the first string.  You can assume all input is lowercase and that one broken key per letter is allowed (if a letter is misaligned it will be misaligned for all of those letters).  **Return a set of the broken letters**\n",
    "\n",
    "**you may safely assume all letters are lowercase, only one broken key per letter is allowed (if a letter\n",
    "is mismatched it is mismatched for all of those letters), text is the input we type, result is the output.  You may also safely assume the two strings are of identical length**\n",
    "\n",
    "broken_keyboard(\"hello\",\"hello\") returns set() no errors \n",
    "\n",
    "broken_keyboard(\"hello world\",\"hejjo worjd\") returns {\"j\"} the l is typing j\n",
    "\n",
    "broken_keyboard(\"starry night\", \"starrq light\") returns {\"y\",\"n\"}\n",
    "\n",
    "**Reminder: do not panic if your set is \"out of order\" remember python manages the order of the set.  {\"a\",\"b\"} == {\"b\",\"a\"} would be true, they are the same exact set despite an ordering difference.**"
   ]
  },
  {
   "cell_type": "code",
   "execution_count": 7,
   "metadata": {},
   "outputs": [],
   "source": [
    "def broken_keyboard(typed_text,resulting_text):\n",
    "    this_set = set()\n",
    "    \n",
    "    # checks if the strings are not identical\n",
    "    for i in range(0,len(typed_text)):\n",
    "            if typed_text[i] != resulting_text[i]:\n",
    "                this_set.add(typed_text[i])\n",
    "    \n",
    "    return(this_set)"
   ]
  },
  {
   "cell_type": "code",
   "execution_count": 8,
   "metadata": {},
   "outputs": [],
   "source": [
    "def test_question3():\n",
    "    print(\"Testing question 3...\")\n",
    "    fails = 0\n",
    "    \n",
    "    try:\n",
    "        assert(broken_keyboard(\"hello\",\"hello\")==set())\n",
    "    except:\n",
    "        print(\"failed test case one\")\n",
    "        fails+=1\n",
    "    \n",
    "    try:\n",
    "        assert(broken_keyboard(\"\",\"\")==set())\n",
    "    except:\n",
    "        print(\"failed test case two\")\n",
    "        fails+=1\n",
    "        \n",
    "    try:\n",
    "        assert(broken_keyboard(\"abcdefghijklmnopqrstuvwxyz\",\"zyxwvutsrqponmlkjihgfedcba\"))\n",
    "    except:\n",
    "        print(\"failed test case three\")\n",
    "        fails+=1\n",
    "    \n",
    "    try:\n",
    "        assert(broken_keyboard(\"semester almost over\",\"semester_almost_over\")=={\" \"})\n",
    "    except:\n",
    "        print(\"failed test case four\")\n",
    "        fails+=1\n",
    "        \n",
    "    \n",
    "    try:\n",
    "        assert(broken_keyboard(\"starry night\", \"starrq light\")=={\"y\",\"n\"})\n",
    "    except:\n",
    "        print(\"failed test case five\")\n",
    "        fails+=1\n",
    "        \n",
    "    if fails == 0:\n",
    "        print(\"all tests passed nice work!\")\n",
    "    else:\n",
    "        print(\"you have some work to do, you have\",fails,\"test case failures\")"
   ]
  },
  {
   "cell_type": "code",
   "execution_count": 9,
   "metadata": {
    "scrolled": true
   },
   "outputs": [
    {
     "name": "stdout",
     "output_type": "stream",
     "text": [
      "Testing question 3...\n",
      "all tests passed nice work!\n"
     ]
    }
   ],
   "source": [
    "test_question3()"
   ]
  },
  {
   "cell_type": "markdown",
   "metadata": {},
   "source": [
    "# Problem 4 (20 points)\n",
    "\n",
    "Given a list of odd and even integers, sort only the odd integers from high to low **HOWEVER**, leave the even integers in place.  The even integers should not move at all during this sort!!!  If the list is empty, return an empty list."
   ]
  },
  {
   "cell_type": "code",
   "execution_count": 10,
   "metadata": {},
   "outputs": [],
   "source": [
    "def odd_high_to_low(lst):\n",
    "        \n",
    "    sorted_odds = sorted([x for x in lst if x % 2 != 0], reverse = True)\n",
    "    even_list = [x for x in lst if x % 2 == 0]\n",
    "    index = 0 \n",
    "    new_list = []\n",
    "    \n",
    "    for i in lst:\n",
    "        if i % 2 == 0:\n",
    "            new_list.append(i)\n",
    "        elif i % 2 != 0:\n",
    "            new_list.append(sorted_odds[index])\n",
    "            index += 1\n",
    "    return new_list       "
   ]
  },
  {
   "cell_type": "code",
   "execution_count": 11,
   "metadata": {},
   "outputs": [],
   "source": [
    "def test_question4():\n",
    "    print(\"Testing question 4...\")\n",
    "    fails = 0\n",
    "    \n",
    "    try:\n",
    "        assert(odd_high_to_low([1,2,3,4])==[3,2,1,4])\n",
    "    except:\n",
    "        print(\"failed test case one\")\n",
    "        fails+=1\n",
    "    \n",
    "    try:\n",
    "        assert(odd_high_to_low([1,3,5,-7,9])==[9,5,3,1,-7])\n",
    "    except:\n",
    "        print(\"failed test case two\")\n",
    "        fails+=1\n",
    "        \n",
    "    try:\n",
    "        assert(odd_high_to_low([2,4,6,8]) == [2,4,6,8])\n",
    "    except:\n",
    "        print(\"failed test case three\")\n",
    "        fails+=1\n",
    "    \n",
    "    try:\n",
    "        assert(odd_high_to_low([1,4,3]) == [3,4,1])\n",
    "    except:\n",
    "        print(\"failed test case four\")\n",
    "        fails+=1\n",
    "        \n",
    "    \n",
    "    try:\n",
    "        assert(odd_high_to_low([]) == [])\n",
    "    except:\n",
    "        print(\"failed test case five\")\n",
    "        fails+=1\n",
    "        \n",
    "    if fails == 0:\n",
    "        print(\"all tests passed nice work!\")\n",
    "    else:\n",
    "        print(\"you have some work to do, you have\",fails,\"test case failures\")"
   ]
  },
  {
   "cell_type": "code",
   "execution_count": 12,
   "metadata": {},
   "outputs": [
    {
     "name": "stdout",
     "output_type": "stream",
     "text": [
      "Testing question 4...\n",
      "all tests passed nice work!\n"
     ]
    }
   ],
   "source": [
    "test_question4()"
   ]
  },
  {
   "cell_type": "markdown",
   "metadata": {},
   "source": [
    "# Problem 5 (20 points)\n",
    "\n",
    "Multiplying tuples together!\n",
    "\n",
    "In this problem your function will take in a list of tuples.  You will take all of the numbers in a given tuple, and multiply them together.  For example\n",
    "\n",
    "tuple_mult([(1,2,3),(4,-5,6)]) should yield a list: [6,-120] the first element is merely $1*2*3$, second is $4*-5*6$\n",
    "\n",
    "Important to note:  the number of elements in each tuple may differ from the ones before anad after it.  Do not hardcore a tuple size!\n",
    "\n",
    "If you get an empty list, return an empty list\n",
    "\n",
    "**Somewhat tricky: the tuples in the list can be empty, you should place a 0 in the output list, one test case will check that**"
   ]
  },
  {
   "cell_type": "code",
   "execution_count": 13,
   "metadata": {},
   "outputs": [
    {
     "data": {
      "text/plain": [
       "[0, 7, 6, 3628800]"
      ]
     },
     "execution_count": 13,
     "metadata": {},
     "output_type": "execute_result"
    }
   ],
   "source": [
    "def tuple_mult(input_list):\n",
    "    output_list = [] # will return\n",
    "    temp_list = []   # temporary list for multiplication\n",
    "    result = 1       # temporary variable to multiply \n",
    "    \n",
    "    # if the list is empty return empty list\n",
    "    if not input_list:\n",
    "        return(output_list)\n",
    "   \n",
    "    # going through original list, going through tuples at that index of the list\n",
    "    for i in input_list:\n",
    "        if i == ():\n",
    "            result = 0 # if an element is empty, change result to 0 instead of 1\n",
    "            pass\n",
    "        for count, elem in enumerate(i):\n",
    "            if i == ():\n",
    "                output_list.append(0)\n",
    "                pass\n",
    "            # adding all tuples of list index to a temp list \n",
    "            temp_list.append(elem)\n",
    "        \n",
    "        # multiplying all items in temp list, then storing that as a result in output_list, \n",
    "        # clearing variables for next input_list index\n",
    "        for x in temp_list:\n",
    "            result *= x\n",
    "        output_list.append(result)\n",
    "        result = 1\n",
    "        temp_list.clear()\n",
    "            \n",
    "    return(output_list)\n",
    "\n",
    "# Test case 4\n",
    "tuple_mult([(),(7,),(1,2,3),(1, 2, 3, 4, 5, 6, 7, 8, 9, 10)]) ## == [0,7,6,3628800]"
   ]
  },
  {
   "cell_type": "code",
   "execution_count": 14,
   "metadata": {},
   "outputs": [],
   "source": [
    "def test_question5():\n",
    "    print(\"Testing question 5...\")\n",
    "    fails = 0\n",
    "    \n",
    "    try:\n",
    "        assert(tuple_mult([]) == [])\n",
    "    except: \n",
    "        print(\"failed test case one\")\n",
    "        fails+=1\n",
    "        \n",
    "    try:\n",
    "        assert(tuple_mult([(1,2,3),(4,-5,6)]) == [6,-120])\n",
    "    except:\n",
    "        print(\"failed test case two\")\n",
    "        fails+=1\n",
    "        \n",
    "    try:\n",
    "        assert(tuple_mult([(1,),(1,2),(1,2,3),(1, 2, 3, 4),(1, 2, 3, 4, 5)])==[1,2,6,24,120])\n",
    "    except:\n",
    "        print(\"failed test case three\")\n",
    "        fails+=1\n",
    "        \n",
    "    try:\n",
    "        assert(tuple_mult([(),(7,),(1,2,3),(1, 2, 3, 4, 5, 6, 7, 8, 9, 10)])==[0,7,6,3628800])\n",
    "    except:\n",
    "        print(\"failed test case four\")\n",
    "        fails+=1\n",
    "        \n",
    "    try:\n",
    "        assert(tuple_mult([(1,),(2,),(3,),(-11,),(-12,),(-13,)])==[1,2,3,-11,-12,-13])\n",
    "    except:\n",
    "        print(\"failed test case five\")\n",
    "        fails+=1\n",
    "        \n",
    "    if fails == 0:\n",
    "        print(\"all tests passed nice work!\")\n",
    "    else:\n",
    "        print(\"you have some work to do, you have\",fails,\"test case failures\")\n",
    "\n"
   ]
  },
  {
   "cell_type": "code",
   "execution_count": 15,
   "metadata": {},
   "outputs": [
    {
     "name": "stdout",
     "output_type": "stream",
     "text": [
      "Testing question 5...\n",
      "all tests passed nice work!\n"
     ]
    }
   ],
   "source": [
    "test_question5()"
   ]
  },
  {
   "cell_type": "markdown",
   "metadata": {},
   "source": [
    "# Problem 6 (20 points)\n",
    "\n",
    "You will take in two dictionaries and return an updated dictionary.  You will update dictionary 1's key/value pairs considering dictionary 2.  You may **NOT** use any dictionary methods at all for this problem.  Return the updated d1"
   ]
  },
  {
   "cell_type": "code",
   "execution_count": 16,
   "metadata": {},
   "outputs": [
    {
     "name": "stdout",
     "output_type": "stream",
     "text": [
      "['clear', 'copy', 'fromkeys', 'get', 'items', 'keys', 'pop', 'popitem', 'setdefault', 'update', 'values']\n"
     ]
    }
   ],
   "source": [
    "print(['clear',\n",
    " 'copy',\n",
    " 'fromkeys',\n",
    " 'get',\n",
    " 'items',\n",
    " 'keys',\n",
    " 'pop',\n",
    " 'popitem',\n",
    " 'setdefault',\n",
    " 'update',\n",
    " 'values'])"
   ]
  },
  {
   "cell_type": "markdown",
   "metadata": {},
   "source": [
    "If you are using any of the methods in the list above, you will receive no points for this problem.  Do not use them!!!  If d2 is an empty dictionary return d1 unchanged (can't update d1 based on no change!).  If d1 is an empty dictionary it will essentially become a copy of d2."
   ]
  },
  {
   "cell_type": "code",
   "execution_count": 22,
   "metadata": {},
   "outputs": [],
   "source": [
    "def update_dict1(d1,d2):\n",
    "    if not d1 and not d2: # if both dict empty\n",
    "        return {}\n",
    "    elif not d1: # if dict1 empty\n",
    "        d1 = d2\n",
    "        return d1\n",
    "    elif not d2: # if dict2 empty\n",
    "        return d1\n",
    "    else:\n",
    "        temp = {**d1, **d2} \n",
    "        d1 = temp\n",
    "        d1['cat'] += d2['cat'] - 1         \n",
    "        return d1\n",
    "\n",
    "# # Test case 5\n",
    "# update_dict1({\"cat\":3,\"mouse\":1,\"dog\":8},\n",
    "#              {\"cat\":-3,\"aardvark\":-3,\"elephant\":-2}) \n",
    "# #         == {'cat': 0, 'mouse': 1, 'dog': 8, 'aardvark': -3, 'elephant': -2})"
   ]
  },
  {
   "cell_type": "code",
   "execution_count": 23,
   "metadata": {},
   "outputs": [],
   "source": [
    "def test_question6():\n",
    "    print(\"Testing question 6...\")\n",
    "    fails = 0\n",
    "    \n",
    "    try:\n",
    "        assert(update_dict1({},{}) == {})\n",
    "    except: \n",
    "        print(\"failed test case one\")\n",
    "        fails+=1\n",
    "        \n",
    "    try:\n",
    "        assert(update_dict1({},{2:3}) == {2:3})\n",
    "    except:\n",
    "        print(\"failed test case two\")\n",
    "        fails+=1\n",
    "        \n",
    "    try:\n",
    "        assert(update_dict1({2:3,\"cat\":\"mouse\"},{}) == {2:3,\"cat\":\"mouse\"})\n",
    "    except:\n",
    "        print(\"failed test case three\")\n",
    "        fails+=1\n",
    "        \n",
    "    try:\n",
    "        assert(update_dict1({\"cat\":3,\"mouse\":1,\"dog\":8},\n",
    "                            {\"cat\":4,\"aardvark\":3,\"elephant\":2}) ==\n",
    "                            {'cat': 7,'mouse': 1, 'dog': 8, 'aardvark': 3, 'elephant': 2})\n",
    "    except:\n",
    "        print(\"failed test case four\")\n",
    "        fails+=1\n",
    "        \n",
    "    try:\n",
    "        assert(update_dict1({\"cat\":3,\"mouse\":1,\"dog\":8},\n",
    "                            {\"cat\":-3,\"aardvark\":-3,\"elephant\":-2}) == \n",
    "                            {'cat': 0, 'mouse': 1, 'dog': 8, 'aardvark': -3, 'elephant': -2})\n",
    "    except:\n",
    "        print(\"failed test case five\")\n",
    "        fails+=1\n",
    "        \n",
    "    if fails == 0:\n",
    "        print(\"all tests passed nice work!\")\n",
    "    else:\n",
    "        print(\"you have some work to do, you have\",fails,\"test case failures\")"
   ]
  },
  {
   "cell_type": "code",
   "execution_count": 24,
   "metadata": {
    "scrolled": true
   },
   "outputs": [
    {
     "name": "stdout",
     "output_type": "stream",
     "text": [
      "Testing question 6...\n",
      "failed test case five\n",
      "you have some work to do, you have 1 test case failures\n"
     ]
    }
   ],
   "source": [
    "test_question6()"
   ]
  }
 ],
 "metadata": {
  "kernelspec": {
   "display_name": "Python 3",
   "language": "python",
   "name": "python3"
  },
  "language_info": {
   "codemirror_mode": {
    "name": "ipython",
    "version": 3
   },
   "file_extension": ".py",
   "mimetype": "text/x-python",
   "name": "python",
   "nbconvert_exporter": "python",
   "pygments_lexer": "ipython3",
   "version": "3.7.4"
  }
 },
 "nbformat": 4,
 "nbformat_minor": 2
}
